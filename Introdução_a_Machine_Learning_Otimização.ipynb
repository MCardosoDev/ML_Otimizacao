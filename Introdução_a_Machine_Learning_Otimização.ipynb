{
  "cells": [
    {
      "cell_type": "code",
      "execution_count": 55,
      "metadata": {
        "colab": {
          "base_uri": "https://localhost:8080/",
          "height": 339
        },
        "colab_type": "code",
        "id": "yku6GxC9PujF",
        "outputId": "03c85f56-cc2c-44cc-f4e0-2ef493d04e05"
      },
      "outputs": [],
      "source": [
        "# !pip install graphviz==0.9\n",
        "# !pip install pydot\n",
        "# !pip install seaborn==0.9.0\n",
        "\n",
        "# !apt-get install graphviz"
      ]
    },
    {
      "cell_type": "code",
      "execution_count": 56,
      "metadata": {
        "colab": {
          "base_uri": "https://localhost:8080/",
          "height": 195
        },
        "colab_type": "code",
        "id": "y7ik04NlDZMA",
        "outputId": "3e60f174-f855-49bd-d378-60b6d840638b"
      },
      "outputs": [
        {
          "data": {
            "text/html": [
              "<div>\n",
              "<style scoped>\n",
              "    .dataframe tbody tr th:only-of-type {\n",
              "        vertical-align: middle;\n",
              "    }\n",
              "\n",
              "    .dataframe tbody tr th {\n",
              "        vertical-align: top;\n",
              "    }\n",
              "\n",
              "    .dataframe thead th {\n",
              "        text-align: right;\n",
              "    }\n",
              "</style>\n",
              "<table border=\"1\" class=\"dataframe\">\n",
              "  <thead>\n",
              "    <tr style=\"text-align: right;\">\n",
              "      <th></th>\n",
              "      <th>preco</th>\n",
              "      <th>vendido</th>\n",
              "      <th>idade_do_modelo</th>\n",
              "      <th>km_por_ano</th>\n",
              "    </tr>\n",
              "  </thead>\n",
              "  <tbody>\n",
              "    <tr>\n",
              "      <th>0</th>\n",
              "      <td>30941.02</td>\n",
              "      <td>1</td>\n",
              "      <td>18</td>\n",
              "      <td>35085.22134</td>\n",
              "    </tr>\n",
              "    <tr>\n",
              "      <th>1</th>\n",
              "      <td>40557.96</td>\n",
              "      <td>1</td>\n",
              "      <td>20</td>\n",
              "      <td>12622.05362</td>\n",
              "    </tr>\n",
              "    <tr>\n",
              "      <th>2</th>\n",
              "      <td>89627.50</td>\n",
              "      <td>0</td>\n",
              "      <td>12</td>\n",
              "      <td>11440.79806</td>\n",
              "    </tr>\n",
              "    <tr>\n",
              "      <th>3</th>\n",
              "      <td>95276.14</td>\n",
              "      <td>0</td>\n",
              "      <td>3</td>\n",
              "      <td>43167.32682</td>\n",
              "    </tr>\n",
              "    <tr>\n",
              "      <th>4</th>\n",
              "      <td>117384.68</td>\n",
              "      <td>1</td>\n",
              "      <td>4</td>\n",
              "      <td>12770.11290</td>\n",
              "    </tr>\n",
              "  </tbody>\n",
              "</table>\n",
              "</div>"
            ],
            "text/plain": [
              "       preco  vendido  idade_do_modelo   km_por_ano\n",
              "0   30941.02        1               18  35085.22134\n",
              "1   40557.96        1               20  12622.05362\n",
              "2   89627.50        0               12  11440.79806\n",
              "3   95276.14        0                3  43167.32682\n",
              "4  117384.68        1                4  12770.11290"
            ]
          },
          "execution_count": 56,
          "metadata": {},
          "output_type": "execute_result"
        }
      ],
      "source": [
        "import pandas as pd\n",
        "\n",
        "uri = \"https://gist.githubusercontent.com/guilhermesilveira/e99a526b2e7ccc6c3b70f53db43a87d2/raw/1605fc74aa778066bf2e6695e24d53cf65f2f447/machine-learning-carros-simulacao.csv\"\n",
        "dados = pd.read_csv(uri).drop(columns=[\"Unnamed: 0\"], axis=1)\n",
        "dados.head()"
      ]
    },
    {
      "cell_type": "code",
      "execution_count": 57,
      "metadata": {
        "colab": {
          "base_uri": "https://localhost:8080/",
          "height": 195
        },
        "colab_type": "code",
        "id": "b52E4e1hjegN",
        "outputId": "46e32461-13ce-4b78-d64f-96e0a89576ba"
      },
      "outputs": [
        {
          "data": {
            "text/html": [
              "<div>\n",
              "<style scoped>\n",
              "    .dataframe tbody tr th:only-of-type {\n",
              "        vertical-align: middle;\n",
              "    }\n",
              "\n",
              "    .dataframe tbody tr th {\n",
              "        vertical-align: top;\n",
              "    }\n",
              "\n",
              "    .dataframe thead th {\n",
              "        text-align: right;\n",
              "    }\n",
              "</style>\n",
              "<table border=\"1\" class=\"dataframe\">\n",
              "  <thead>\n",
              "    <tr style=\"text-align: right;\">\n",
              "      <th></th>\n",
              "      <th>preco</th>\n",
              "      <th>vendido</th>\n",
              "      <th>idade_do_modelo</th>\n",
              "      <th>km_por_ano</th>\n",
              "    </tr>\n",
              "  </thead>\n",
              "  <tbody>\n",
              "    <tr>\n",
              "      <th>4999</th>\n",
              "      <td>74023.29</td>\n",
              "      <td>0</td>\n",
              "      <td>12</td>\n",
              "      <td>24812.80412</td>\n",
              "    </tr>\n",
              "    <tr>\n",
              "      <th>5322</th>\n",
              "      <td>84843.49</td>\n",
              "      <td>0</td>\n",
              "      <td>13</td>\n",
              "      <td>23095.63834</td>\n",
              "    </tr>\n",
              "    <tr>\n",
              "      <th>5319</th>\n",
              "      <td>83100.27</td>\n",
              "      <td>0</td>\n",
              "      <td>19</td>\n",
              "      <td>36240.72746</td>\n",
              "    </tr>\n",
              "    <tr>\n",
              "      <th>5316</th>\n",
              "      <td>87932.13</td>\n",
              "      <td>0</td>\n",
              "      <td>16</td>\n",
              "      <td>32249.56426</td>\n",
              "    </tr>\n",
              "    <tr>\n",
              "      <th>5315</th>\n",
              "      <td>77937.01</td>\n",
              "      <td>0</td>\n",
              "      <td>15</td>\n",
              "      <td>28414.50704</td>\n",
              "    </tr>\n",
              "  </tbody>\n",
              "</table>\n",
              "</div>"
            ],
            "text/plain": [
              "         preco  vendido  idade_do_modelo   km_por_ano\n",
              "4999  74023.29        0               12  24812.80412\n",
              "5322  84843.49        0               13  23095.63834\n",
              "5319  83100.27        0               19  36240.72746\n",
              "5316  87932.13        0               16  32249.56426\n",
              "5315  77937.01        0               15  28414.50704"
            ]
          },
          "execution_count": 57,
          "metadata": {},
          "output_type": "execute_result"
        }
      ],
      "source": [
        "# situação horrível de \"azar\" onde as classes estão ordenadas por padrão\n",
        "\n",
        "dados_azar = dados.sort_values(\"vendido\", ascending=True)\n",
        "x_azar = dados_azar[[\"preco\", \"idade_do_modelo\",\"km_por_ano\"]]\n",
        "y_azar = dados_azar[\"vendido\"]\n",
        "dados_azar.head()"
      ]
    },
    {
      "cell_type": "code",
      "execution_count": 58,
      "metadata": {
        "colab": {
          "base_uri": "https://localhost:8080/",
          "height": 34
        },
        "colab_type": "code",
        "id": "ZNT26vFEeYmz",
        "outputId": "5cd367dd-e297-40cc-c81d-e09bbc7bf41f"
      },
      "outputs": [
        {
          "name": "stdout",
          "output_type": "stream",
          "text": [
            "Accuracy com dummy stratified, 10 = [58.00, 58.00]\n"
          ]
        }
      ],
      "source": [
        "from sklearn.model_selection import cross_validate\n",
        "from sklearn.dummy import DummyClassifier\n",
        "import numpy as np\n",
        "\n",
        "SEED = 301\n",
        "np.random.seed(SEED)\n",
        "\n",
        "modelo = DummyClassifier()\n",
        "results = cross_validate(modelo, x_azar, y_azar, cv = 10, return_train_score=False)\n",
        "media = results['test_score'].mean()\n",
        "desvio_padrao = results['test_score'].std()\n",
        "print(\"Accuracy com dummy stratified, 10 = [%.2f, %.2f]\" % ((media - 2 * desvio_padrao)*100, (media + 2 * desvio_padrao) * 100))"
      ]
    },
    {
      "cell_type": "code",
      "execution_count": 59,
      "metadata": {
        "colab": {
          "base_uri": "https://localhost:8080/",
          "height": 34
        },
        "colab_type": "code",
        "id": "73mCcFA_eG_K",
        "outputId": "6f585741-6e82-4e9e-9d6a-d74ed8224503"
      },
      "outputs": [
        {
          "name": "stdout",
          "output_type": "stream",
          "text": [
            "Accuracy com cross validation, 10 = [73.83, 77.73]\n"
          ]
        }
      ],
      "source": [
        "from sklearn.model_selection import cross_validate\n",
        "from sklearn.tree import DecisionTreeClassifier\n",
        "\n",
        "SEED = 301\n",
        "np.random.seed(SEED)\n",
        "\n",
        "modelo = DecisionTreeClassifier(max_depth=2)\n",
        "results = cross_validate(modelo, x_azar, y_azar, cv = 10, return_train_score=False)\n",
        "media = results['test_score'].mean()\n",
        "desvio_padrao = results['test_score'].std()\n",
        "print(\"Accuracy com cross validation, 10 = [%.2f, %.2f]\" % ((media - 2 * desvio_padrao)*100, (media + 2 * desvio_padrao) * 100))"
      ]
    },
    {
      "cell_type": "code",
      "execution_count": 60,
      "metadata": {
        "colab": {
          "base_uri": "https://localhost:8080/",
          "height": 195
        },
        "colab_type": "code",
        "id": "5C8Y6J-PGpYf",
        "outputId": "dcf93fa7-ff87-4bd9-b4aa-a3dfab869f84"
      },
      "outputs": [
        {
          "data": {
            "text/html": [
              "<div>\n",
              "<style scoped>\n",
              "    .dataframe tbody tr th:only-of-type {\n",
              "        vertical-align: middle;\n",
              "    }\n",
              "\n",
              "    .dataframe tbody tr th {\n",
              "        vertical-align: top;\n",
              "    }\n",
              "\n",
              "    .dataframe thead th {\n",
              "        text-align: right;\n",
              "    }\n",
              "</style>\n",
              "<table border=\"1\" class=\"dataframe\">\n",
              "  <thead>\n",
              "    <tr style=\"text-align: right;\">\n",
              "      <th></th>\n",
              "      <th>preco</th>\n",
              "      <th>vendido</th>\n",
              "      <th>idade_do_modelo</th>\n",
              "      <th>km_por_ano</th>\n",
              "      <th>modelo</th>\n",
              "    </tr>\n",
              "  </thead>\n",
              "  <tbody>\n",
              "    <tr>\n",
              "      <th>0</th>\n",
              "      <td>30941.02</td>\n",
              "      <td>1</td>\n",
              "      <td>18</td>\n",
              "      <td>35085.22134</td>\n",
              "      <td>18</td>\n",
              "    </tr>\n",
              "    <tr>\n",
              "      <th>1</th>\n",
              "      <td>40557.96</td>\n",
              "      <td>1</td>\n",
              "      <td>20</td>\n",
              "      <td>12622.05362</td>\n",
              "      <td>24</td>\n",
              "    </tr>\n",
              "    <tr>\n",
              "      <th>2</th>\n",
              "      <td>89627.50</td>\n",
              "      <td>0</td>\n",
              "      <td>12</td>\n",
              "      <td>11440.79806</td>\n",
              "      <td>14</td>\n",
              "    </tr>\n",
              "    <tr>\n",
              "      <th>3</th>\n",
              "      <td>95276.14</td>\n",
              "      <td>0</td>\n",
              "      <td>3</td>\n",
              "      <td>43167.32682</td>\n",
              "      <td>6</td>\n",
              "    </tr>\n",
              "    <tr>\n",
              "      <th>4</th>\n",
              "      <td>117384.68</td>\n",
              "      <td>1</td>\n",
              "      <td>4</td>\n",
              "      <td>12770.11290</td>\n",
              "      <td>5</td>\n",
              "    </tr>\n",
              "  </tbody>\n",
              "</table>\n",
              "</div>"
            ],
            "text/plain": [
              "       preco  vendido  idade_do_modelo   km_por_ano  modelo\n",
              "0   30941.02        1               18  35085.22134      18\n",
              "1   40557.96        1               20  12622.05362      24\n",
              "2   89627.50        0               12  11440.79806      14\n",
              "3   95276.14        0                3  43167.32682       6\n",
              "4  117384.68        1                4  12770.11290       5"
            ]
          },
          "execution_count": 60,
          "metadata": {},
          "output_type": "execute_result"
        }
      ],
      "source": [
        "# gerando dados elatorios de modelo de carro para simulacao de agrupamento ao usar nosso estimador\n",
        "\n",
        "np.random.seed(SEED)\n",
        "dados['modelo'] = dados.idade_do_modelo + np.random.randint(-2, 3, size=10000)\n",
        "dados.modelo = dados.modelo + abs(dados.modelo.min()) + 1\n",
        "dados.head()"
      ]
    },
    {
      "cell_type": "code",
      "execution_count": 61,
      "metadata": {
        "colab": {},
        "colab_type": "code",
        "id": "3hmjt7qPHOZY"
      },
      "outputs": [],
      "source": [
        "def imprime_resultados(results):\n",
        "  media = results['test_score'].mean() * 100\n",
        "  desvio = results['test_score'].std() * 100\n",
        "  print(\"Accuracy médio %.2f\" % media)\n",
        "  print(\"Intervalo [%.2f, %.2f]\" % (media - 2 * desvio, media + 2 * desvio))"
      ]
    },
    {
      "cell_type": "code",
      "execution_count": 62,
      "metadata": {
        "colab": {
          "base_uri": "https://localhost:8080/",
          "height": 50
        },
        "colab_type": "code",
        "id": "goijy0rSS7n-",
        "outputId": "bf0df175-81db-4ee7-8ae4-591a31eb66db"
      },
      "outputs": [
        {
          "name": "stdout",
          "output_type": "stream",
          "text": [
            "Accuracy médio 76.68\n",
            "Intervalo [74.28, 79.08]\n"
          ]
        }
      ],
      "source": [
        "# GroupKFold em um pipeline com StandardScaler e SVC\n",
        "\n",
        "from sklearn.preprocessing import StandardScaler\n",
        "from sklearn.svm import SVC\n",
        "from sklearn.pipeline import Pipeline\n",
        "from sklearn.model_selection import GroupKFold\n",
        "\n",
        "SEED = 301\n",
        "np.random.seed(SEED)\n",
        "\n",
        "scaler = StandardScaler()\n",
        "modelo = SVC()\n",
        "\n",
        "pipeline = Pipeline([('transformacao',scaler), ('estimador',modelo)])\n",
        "\n",
        "cv = GroupKFold(n_splits = 10)\n",
        "results = cross_validate(pipeline, x_azar, y_azar, cv = cv, groups = dados.modelo, return_train_score=False)\n",
        "imprime_resultados(results)"
      ]
    },
    {
      "cell_type": "code",
      "execution_count": 63,
      "metadata": {
        "colab": {
          "base_uri": "https://localhost:8080/",
          "height": 50
        },
        "colab_type": "code",
        "id": "IKD8uaWkNcUL",
        "outputId": "c5430f13-067a-4d6a-e840-46d4669e931a"
      },
      "outputs": [
        {
          "name": "stdout",
          "output_type": "stream",
          "text": [
            "Accuracy médio 75.78\n",
            "Intervalo [73.67, 77.90]\n"
          ]
        }
      ],
      "source": [
        "# GroupKFold para analisar como o modelo se comporta com novos grupos\n",
        "\n",
        "from sklearn.model_selection import GroupKFold\n",
        "\n",
        "SEED = 301\n",
        "np.random.seed(SEED)\n",
        "\n",
        "cv = GroupKFold(n_splits = 10)\n",
        "modelo = DecisionTreeClassifier(max_depth=2)\n",
        "results = cross_validate(modelo, x_azar, y_azar, cv = cv, groups = dados.modelo, return_train_score=False)\n",
        "imprime_resultados(results)"
      ]
    },
    {
      "cell_type": "code",
      "execution_count": 64,
      "metadata": {
        "colab": {
          "base_uri": "https://localhost:8080/",
          "height": 440
        },
        "colab_type": "code",
        "id": "WhJEIZ4bO3J6",
        "outputId": "9ac2fe01-dbbc-41d8-e4c4-b32ffeb75fd7"
      },
      "outputs": [
        {
          "data": {
            "image/svg+xml": [
              "<?xml version=\"1.0\" encoding=\"UTF-8\" standalone=\"no\"?>\n",
              "<!DOCTYPE svg PUBLIC \"-//W3C//DTD SVG 1.1//EN\"\n",
              " \"http://www.w3.org/Graphics/SVG/1.1/DTD/svg11.dtd\">\n",
              "<!-- Generated by graphviz version 8.0.3 (20230416.2022)\n",
              " -->\n",
              "<!-- Title: Tree Pages: 1 -->\n",
              "<svg width=\"619pt\" height=\"314pt\"\n",
              " viewBox=\"0.00 0.00 619.00 314.00\" xmlns=\"http://www.w3.org/2000/svg\" xmlns:xlink=\"http://www.w3.org/1999/xlink\">\n",
              "<g id=\"graph0\" class=\"graph\" transform=\"scale(1 1) rotate(0) translate(4 310)\">\n",
              "<title>Tree</title>\n",
              "<polygon fill=\"white\" stroke=\"none\" points=\"-4,4 -4,-310 615,-310 615,4 -4,4\"/>\n",
              "<!-- 0 -->\n",
              "<g id=\"node1\" class=\"node\">\n",
              "<title>0</title>\n",
              "<path fill=\"#c8e4f8\" stroke=\"black\" d=\"M356.5,-306C356.5,-306 233.5,-306 233.5,-306 227.5,-306 221.5,-300 221.5,-294 221.5,-294 221.5,-235 221.5,-235 221.5,-229 227.5,-223 233.5,-223 233.5,-223 356.5,-223 356.5,-223 362.5,-223 368.5,-229 368.5,-235 368.5,-235 368.5,-294 368.5,-294 368.5,-300 362.5,-306 356.5,-306\"/>\n",
              "<text text-anchor=\"middle\" x=\"295\" y=\"-290.8\" font-family=\"Helvetica,sans-Serif\" font-size=\"14.00\">preco &lt;= 59982.246</text>\n",
              "<text text-anchor=\"middle\" x=\"295\" y=\"-275.8\" font-family=\"Helvetica,sans-Serif\" font-size=\"14.00\">gini = 0.487</text>\n",
              "<text text-anchor=\"middle\" x=\"295\" y=\"-260.8\" font-family=\"Helvetica,sans-Serif\" font-size=\"14.00\">samples = 10000</text>\n",
              "<text text-anchor=\"middle\" x=\"295\" y=\"-245.8\" font-family=\"Helvetica,sans-Serif\" font-size=\"14.00\">value = [4200, 5800]</text>\n",
              "<text text-anchor=\"middle\" x=\"295\" y=\"-230.8\" font-family=\"Helvetica,sans-Serif\" font-size=\"14.00\">class = sim</text>\n",
              "</g>\n",
              "<!-- 1 -->\n",
              "<g id=\"node2\" class=\"node\">\n",
              "<title>1</title>\n",
              "<path fill=\"#52a9e8\" stroke=\"black\" d=\"M263.5,-187C263.5,-187 140.5,-187 140.5,-187 134.5,-187 128.5,-181 128.5,-175 128.5,-175 128.5,-116 128.5,-116 128.5,-110 134.5,-104 140.5,-104 140.5,-104 263.5,-104 263.5,-104 269.5,-104 275.5,-110 275.5,-116 275.5,-116 275.5,-175 275.5,-175 275.5,-181 269.5,-187 263.5,-187\"/>\n",
              "<text text-anchor=\"middle\" x=\"202\" y=\"-171.8\" font-family=\"Helvetica,sans-Serif\" font-size=\"14.00\">preco &lt;= 40083.385</text>\n",
              "<text text-anchor=\"middle\" x=\"202\" y=\"-156.8\" font-family=\"Helvetica,sans-Serif\" font-size=\"14.00\">gini = 0.198</text>\n",
              "<text text-anchor=\"middle\" x=\"202\" y=\"-141.8\" font-family=\"Helvetica,sans-Serif\" font-size=\"14.00\">samples = 4347</text>\n",
              "<text text-anchor=\"middle\" x=\"202\" y=\"-126.8\" font-family=\"Helvetica,sans-Serif\" font-size=\"14.00\">value = [484, 3863]</text>\n",
              "<text text-anchor=\"middle\" x=\"202\" y=\"-111.8\" font-family=\"Helvetica,sans-Serif\" font-size=\"14.00\">class = sim</text>\n",
              "</g>\n",
              "<!-- 0&#45;&gt;1 -->\n",
              "<g id=\"edge1\" class=\"edge\">\n",
              "<title>0&#45;&gt;1</title>\n",
              "<path fill=\"none\" stroke=\"black\" d=\"M262.47,-222.58C255.57,-213.89 248.21,-204.63 241.08,-195.67\"/>\n",
              "<polygon fill=\"black\" stroke=\"black\" points=\"243.31,-193.85 234.35,-188.2 237.83,-198.21 243.31,-193.85\"/>\n",
              "<text text-anchor=\"middle\" x=\"231.51\" y=\"-208.34\" font-family=\"Helvetica,sans-Serif\" font-size=\"14.00\">True</text>\n",
              "</g>\n",
              "<!-- 4 -->\n",
              "<g id=\"node5\" class=\"node\">\n",
              "<title>4</title>\n",
              "<path fill=\"#f3c3a0\" stroke=\"black\" d=\"M472,-187C472,-187 306,-187 306,-187 300,-187 294,-181 294,-175 294,-175 294,-116 294,-116 294,-110 300,-104 306,-104 306,-104 472,-104 472,-104 478,-104 484,-110 484,-116 484,-116 484,-175 484,-175 484,-181 478,-187 472,-187\"/>\n",
              "<text text-anchor=\"middle\" x=\"389\" y=\"-171.8\" font-family=\"Helvetica,sans-Serif\" font-size=\"14.00\">km_por_ano &lt;= 24124.006</text>\n",
              "<text text-anchor=\"middle\" x=\"389\" y=\"-156.8\" font-family=\"Helvetica,sans-Serif\" font-size=\"14.00\">gini = 0.45</text>\n",
              "<text text-anchor=\"middle\" x=\"389\" y=\"-141.8\" font-family=\"Helvetica,sans-Serif\" font-size=\"14.00\">samples = 5653</text>\n",
              "<text text-anchor=\"middle\" x=\"389\" y=\"-126.8\" font-family=\"Helvetica,sans-Serif\" font-size=\"14.00\">value = [3716, 1937]</text>\n",
              "<text text-anchor=\"middle\" x=\"389\" y=\"-111.8\" font-family=\"Helvetica,sans-Serif\" font-size=\"14.00\">class = não</text>\n",
              "</g>\n",
              "<!-- 0&#45;&gt;4 -->\n",
              "<g id=\"edge4\" class=\"edge\">\n",
              "<title>0&#45;&gt;4</title>\n",
              "<path fill=\"none\" stroke=\"black\" d=\"M327.88,-222.58C334.86,-213.89 342.3,-204.63 349.5,-195.67\"/>\n",
              "<polygon fill=\"black\" stroke=\"black\" points=\"352.77,-198.19 356.3,-188.2 347.31,-193.8 352.77,-198.19\"/>\n",
              "<text text-anchor=\"middle\" x=\"359.01\" y=\"-208.35\" font-family=\"Helvetica,sans-Serif\" font-size=\"14.00\">False</text>\n",
              "</g>\n",
              "<!-- 2 -->\n",
              "<g id=\"node3\" class=\"node\">\n",
              "<title>2</title>\n",
              "<path fill=\"#399de5\" stroke=\"black\" d=\"M110,-68C110,-68 12,-68 12,-68 6,-68 0,-62 0,-56 0,-56 0,-12 0,-12 0,-6 6,0 12,0 12,0 110,0 110,0 116,0 122,-6 122,-12 122,-12 122,-56 122,-56 122,-62 116,-68 110,-68\"/>\n",
              "<text text-anchor=\"middle\" x=\"61\" y=\"-52.8\" font-family=\"Helvetica,sans-Serif\" font-size=\"14.00\">gini = 0.0</text>\n",
              "<text text-anchor=\"middle\" x=\"61\" y=\"-37.8\" font-family=\"Helvetica,sans-Serif\" font-size=\"14.00\">samples = 1935</text>\n",
              "<text text-anchor=\"middle\" x=\"61\" y=\"-22.8\" font-family=\"Helvetica,sans-Serif\" font-size=\"14.00\">value = [0, 1935]</text>\n",
              "<text text-anchor=\"middle\" x=\"61\" y=\"-7.8\" font-family=\"Helvetica,sans-Serif\" font-size=\"14.00\">class = sim</text>\n",
              "</g>\n",
              "<!-- 1&#45;&gt;2 -->\n",
              "<g id=\"edge2\" class=\"edge\">\n",
              "<title>1&#45;&gt;2</title>\n",
              "<path fill=\"none\" stroke=\"black\" d=\"M149.5,-103.73C137.4,-94.33 124.55,-84.35 112.49,-74.99\"/>\n",
              "<polygon fill=\"black\" stroke=\"black\" points=\"114.92,-71.67 104.88,-68.3 110.63,-77.2 114.92,-71.67\"/>\n",
              "</g>\n",
              "<!-- 3 -->\n",
              "<g id=\"node4\" class=\"node\">\n",
              "<title>3</title>\n",
              "<path fill=\"#6bb6ec\" stroke=\"black\" d=\"M266,-68C266,-68 152,-68 152,-68 146,-68 140,-62 140,-56 140,-56 140,-12 140,-12 140,-6 146,0 152,0 152,0 266,0 266,0 272,0 278,-6 278,-12 278,-12 278,-56 278,-56 278,-62 272,-68 266,-68\"/>\n",
              "<text text-anchor=\"middle\" x=\"209\" y=\"-52.8\" font-family=\"Helvetica,sans-Serif\" font-size=\"14.00\">gini = 0.321</text>\n",
              "<text text-anchor=\"middle\" x=\"209\" y=\"-37.8\" font-family=\"Helvetica,sans-Serif\" font-size=\"14.00\">samples = 2412</text>\n",
              "<text text-anchor=\"middle\" x=\"209\" y=\"-22.8\" font-family=\"Helvetica,sans-Serif\" font-size=\"14.00\">value = [484, 1928]</text>\n",
              "<text text-anchor=\"middle\" x=\"209\" y=\"-7.8\" font-family=\"Helvetica,sans-Serif\" font-size=\"14.00\">class = sim</text>\n",
              "</g>\n",
              "<!-- 1&#45;&gt;3 -->\n",
              "<g id=\"edge3\" class=\"edge\">\n",
              "<title>1&#45;&gt;3</title>\n",
              "<path fill=\"none\" stroke=\"black\" d=\"M204.61,-103.73C205.12,-95.7 205.66,-87.24 206.18,-79.11\"/>\n",
              "<polygon fill=\"black\" stroke=\"black\" points=\"209.73,-79.5 206.87,-69.3 202.74,-79.06 209.73,-79.5\"/>\n",
              "</g>\n",
              "<!-- 5 -->\n",
              "<g id=\"node6\" class=\"node\">\n",
              "<title>5</title>\n",
              "<path fill=\"#fcefe5\" stroke=\"black\" d=\"M443,-68C443,-68 321,-68 321,-68 315,-68 309,-62 309,-56 309,-56 309,-12 309,-12 309,-6 315,0 321,0 321,0 443,0 443,0 449,0 455,-6 455,-12 455,-12 455,-56 455,-56 455,-62 449,-68 443,-68\"/>\n",
              "<text text-anchor=\"middle\" x=\"382\" y=\"-52.8\" font-family=\"Helvetica,sans-Serif\" font-size=\"14.00\">gini = 0.498</text>\n",
              "<text text-anchor=\"middle\" x=\"382\" y=\"-37.8\" font-family=\"Helvetica,sans-Serif\" font-size=\"14.00\">samples = 3513</text>\n",
              "<text text-anchor=\"middle\" x=\"382\" y=\"-22.8\" font-family=\"Helvetica,sans-Serif\" font-size=\"14.00\">value = [1879, 1634]</text>\n",
              "<text text-anchor=\"middle\" x=\"382\" y=\"-7.8\" font-family=\"Helvetica,sans-Serif\" font-size=\"14.00\">class = não</text>\n",
              "</g>\n",
              "<!-- 4&#45;&gt;5 -->\n",
              "<g id=\"edge5\" class=\"edge\">\n",
              "<title>4&#45;&gt;5</title>\n",
              "<path fill=\"none\" stroke=\"black\" d=\"M386.39,-103.73C385.88,-95.7 385.34,-87.24 384.82,-79.11\"/>\n",
              "<polygon fill=\"black\" stroke=\"black\" points=\"388.26,-79.06 384.13,-69.3 381.27,-79.5 388.26,-79.06\"/>\n",
              "</g>\n",
              "<!-- 6 -->\n",
              "<g id=\"node7\" class=\"node\">\n",
              "<title>6</title>\n",
              "<path fill=\"#e9965a\" stroke=\"black\" d=\"M599,-68C599,-68 485,-68 485,-68 479,-68 473,-62 473,-56 473,-56 473,-12 473,-12 473,-6 479,0 485,0 485,0 599,0 599,0 605,0 611,-6 611,-12 611,-12 611,-56 611,-56 611,-62 605,-68 599,-68\"/>\n",
              "<text text-anchor=\"middle\" x=\"542\" y=\"-52.8\" font-family=\"Helvetica,sans-Serif\" font-size=\"14.00\">gini = 0.243</text>\n",
              "<text text-anchor=\"middle\" x=\"542\" y=\"-37.8\" font-family=\"Helvetica,sans-Serif\" font-size=\"14.00\">samples = 2140</text>\n",
              "<text text-anchor=\"middle\" x=\"542\" y=\"-22.8\" font-family=\"Helvetica,sans-Serif\" font-size=\"14.00\">value = [1837, 303]</text>\n",
              "<text text-anchor=\"middle\" x=\"542\" y=\"-7.8\" font-family=\"Helvetica,sans-Serif\" font-size=\"14.00\">class = não</text>\n",
              "</g>\n",
              "<!-- 4&#45;&gt;6 -->\n",
              "<g id=\"edge6\" class=\"edge\">\n",
              "<title>4&#45;&gt;6</title>\n",
              "<path fill=\"none\" stroke=\"black\" d=\"M445.97,-103.73C459.35,-94.15 473.59,-83.96 486.89,-74.44\"/>\n",
              "<polygon fill=\"black\" stroke=\"black\" points=\"488.38,-76.97 494.47,-68.3 484.3,-71.27 488.38,-76.97\"/>\n",
              "</g>\n",
              "</g>\n",
              "</svg>\n"
            ],
            "text/plain": [
              "<graphviz.sources.Source at 0x25197565cd0>"
            ]
          },
          "execution_count": 64,
          "metadata": {},
          "output_type": "execute_result"
        }
      ],
      "source": [
        "from sklearn.tree import export_graphviz\n",
        "import graphviz\n",
        "\n",
        "modelo.fit(x_azar, y_azar)\n",
        "features = x_azar.columns\n",
        "dot_data = export_graphviz(modelo, out_file=None, filled=True, rounded=True, class_names=[\"não\",\"sim\"], feature_names = features) # type: ignore\n",
        "graph = graphviz.Source(dot_data)\n",
        "graph"
      ]
    },
    {
      "cell_type": "code",
      "execution_count": 65,
      "metadata": {
        "colab": {
          "base_uri": "https://localhost:8080/",
          "height": 50
        },
        "colab_type": "code",
        "id": "zdfgLexRPQ54",
        "outputId": "c8c75555-27f2-4ceb-e31b-57d7938723f3"
      },
      "outputs": [
        {
          "name": "stdout",
          "output_type": "stream",
          "text": [
            "Accuracy médio 78.67\n",
            "Intervalo [76.40, 80.94]\n"
          ]
        }
      ],
      "source": [
        "# GroupKFold para analisar como o modelo se comporta com novos grupos\n",
        "\n",
        "from sklearn.model_selection import GroupKFold\n",
        "\n",
        "SEED = 301\n",
        "np.random.seed(SEED)\n",
        "\n",
        "cv = GroupKFold(n_splits = 10)\n",
        "modelo = DecisionTreeClassifier(max_depth=3)\n",
        "results = cross_validate(modelo, x_azar, y_azar, cv = cv, groups = dados.modelo, return_train_score=False)\n",
        "imprime_resultados(results)"
      ]
    },
    {
      "cell_type": "code",
      "execution_count": 66,
      "metadata": {
        "colab": {
          "base_uri": "https://localhost:8080/",
          "height": 618
        },
        "colab_type": "code",
        "id": "kSe6rPpdQ4Wy",
        "outputId": "e93cc869-3790-4c65-d712-fb1dc82111dc"
      },
      "outputs": [
        {
          "data": {
            "image/svg+xml": [
              "<?xml version=\"1.0\" encoding=\"UTF-8\" standalone=\"no\"?>\n",
              "<!DOCTYPE svg PUBLIC \"-//W3C//DTD SVG 1.1//EN\"\n",
              " \"http://www.w3.org/Graphics/SVG/1.1/DTD/svg11.dtd\">\n",
              "<!-- Generated by graphviz version 8.0.3 (20230416.2022)\n",
              " -->\n",
              "<!-- Title: Tree Pages: 1 -->\n",
              "<svg width=\"899pt\" height=\"433pt\"\n",
              " viewBox=\"0.00 0.00 899.00 433.00\" xmlns=\"http://www.w3.org/2000/svg\" xmlns:xlink=\"http://www.w3.org/1999/xlink\">\n",
              "<g id=\"graph0\" class=\"graph\" transform=\"scale(1 1) rotate(0) translate(4 429)\">\n",
              "<title>Tree</title>\n",
              "<polygon fill=\"white\" stroke=\"none\" points=\"-4,4 -4,-429 895,-429 895,4 -4,4\"/>\n",
              "<!-- 0 -->\n",
              "<g id=\"node1\" class=\"node\">\n",
              "<title>0</title>\n",
              "<path fill=\"#c8e4f8\" stroke=\"black\" d=\"M368.5,-425C368.5,-425 245.5,-425 245.5,-425 239.5,-425 233.5,-419 233.5,-413 233.5,-413 233.5,-354 233.5,-354 233.5,-348 239.5,-342 245.5,-342 245.5,-342 368.5,-342 368.5,-342 374.5,-342 380.5,-348 380.5,-354 380.5,-354 380.5,-413 380.5,-413 380.5,-419 374.5,-425 368.5,-425\"/>\n",
              "<text text-anchor=\"middle\" x=\"307\" y=\"-409.8\" font-family=\"Helvetica,sans-Serif\" font-size=\"14.00\">preco &lt;= 59982.246</text>\n",
              "<text text-anchor=\"middle\" x=\"307\" y=\"-394.8\" font-family=\"Helvetica,sans-Serif\" font-size=\"14.00\">gini = 0.487</text>\n",
              "<text text-anchor=\"middle\" x=\"307\" y=\"-379.8\" font-family=\"Helvetica,sans-Serif\" font-size=\"14.00\">samples = 10000</text>\n",
              "<text text-anchor=\"middle\" x=\"307\" y=\"-364.8\" font-family=\"Helvetica,sans-Serif\" font-size=\"14.00\">value = [4200, 5800]</text>\n",
              "<text text-anchor=\"middle\" x=\"307\" y=\"-349.8\" font-family=\"Helvetica,sans-Serif\" font-size=\"14.00\">class = sim</text>\n",
              "</g>\n",
              "<!-- 1 -->\n",
              "<g id=\"node2\" class=\"node\">\n",
              "<title>1</title>\n",
              "<path fill=\"#52a9e8\" stroke=\"black\" d=\"M275.5,-306C275.5,-306 152.5,-306 152.5,-306 146.5,-306 140.5,-300 140.5,-294 140.5,-294 140.5,-235 140.5,-235 140.5,-229 146.5,-223 152.5,-223 152.5,-223 275.5,-223 275.5,-223 281.5,-223 287.5,-229 287.5,-235 287.5,-235 287.5,-294 287.5,-294 287.5,-300 281.5,-306 275.5,-306\"/>\n",
              "<text text-anchor=\"middle\" x=\"214\" y=\"-290.8\" font-family=\"Helvetica,sans-Serif\" font-size=\"14.00\">preco &lt;= 40083.385</text>\n",
              "<text text-anchor=\"middle\" x=\"214\" y=\"-275.8\" font-family=\"Helvetica,sans-Serif\" font-size=\"14.00\">gini = 0.198</text>\n",
              "<text text-anchor=\"middle\" x=\"214\" y=\"-260.8\" font-family=\"Helvetica,sans-Serif\" font-size=\"14.00\">samples = 4347</text>\n",
              "<text text-anchor=\"middle\" x=\"214\" y=\"-245.8\" font-family=\"Helvetica,sans-Serif\" font-size=\"14.00\">value = [484, 3863]</text>\n",
              "<text text-anchor=\"middle\" x=\"214\" y=\"-230.8\" font-family=\"Helvetica,sans-Serif\" font-size=\"14.00\">class = sim</text>\n",
              "</g>\n",
              "<!-- 0&#45;&gt;1 -->\n",
              "<g id=\"edge1\" class=\"edge\">\n",
              "<title>0&#45;&gt;1</title>\n",
              "<path fill=\"none\" stroke=\"black\" d=\"M274.47,-341.58C267.57,-332.89 260.21,-323.63 253.08,-314.67\"/>\n",
              "<polygon fill=\"black\" stroke=\"black\" points=\"255.31,-312.85 246.35,-307.2 249.83,-317.21 255.31,-312.85\"/>\n",
              "<text text-anchor=\"middle\" x=\"243.51\" y=\"-327.34\" font-family=\"Helvetica,sans-Serif\" font-size=\"14.00\">True</text>\n",
              "</g>\n",
              "<!-- 6 -->\n",
              "<g id=\"node7\" class=\"node\">\n",
              "<title>6</title>\n",
              "<path fill=\"#f3c3a0\" stroke=\"black\" d=\"M538,-306C538,-306 372,-306 372,-306 366,-306 360,-300 360,-294 360,-294 360,-235 360,-235 360,-229 366,-223 372,-223 372,-223 538,-223 538,-223 544,-223 550,-229 550,-235 550,-235 550,-294 550,-294 550,-300 544,-306 538,-306\"/>\n",
              "<text text-anchor=\"middle\" x=\"455\" y=\"-290.8\" font-family=\"Helvetica,sans-Serif\" font-size=\"14.00\">km_por_ano &lt;= 24124.006</text>\n",
              "<text text-anchor=\"middle\" x=\"455\" y=\"-275.8\" font-family=\"Helvetica,sans-Serif\" font-size=\"14.00\">gini = 0.45</text>\n",
              "<text text-anchor=\"middle\" x=\"455\" y=\"-260.8\" font-family=\"Helvetica,sans-Serif\" font-size=\"14.00\">samples = 5653</text>\n",
              "<text text-anchor=\"middle\" x=\"455\" y=\"-245.8\" font-family=\"Helvetica,sans-Serif\" font-size=\"14.00\">value = [3716, 1937]</text>\n",
              "<text text-anchor=\"middle\" x=\"455\" y=\"-230.8\" font-family=\"Helvetica,sans-Serif\" font-size=\"14.00\">class = não</text>\n",
              "</g>\n",
              "<!-- 0&#45;&gt;6 -->\n",
              "<g id=\"edge6\" class=\"edge\">\n",
              "<title>0&#45;&gt;6</title>\n",
              "<path fill=\"none\" stroke=\"black\" d=\"M358.76,-341.58C370.37,-332.41 382.78,-322.6 394.69,-313.17\"/>\n",
              "<polygon fill=\"black\" stroke=\"black\" points=\"396.59,-315.35 402.27,-306.4 392.25,-309.85 396.59,-315.35\"/>\n",
              "<text text-anchor=\"middle\" x=\"400.36\" y=\"-327.53\" font-family=\"Helvetica,sans-Serif\" font-size=\"14.00\">False</text>\n",
              "</g>\n",
              "<!-- 2 -->\n",
              "<g id=\"node3\" class=\"node\">\n",
              "<title>2</title>\n",
              "<path fill=\"#399de5\" stroke=\"black\" d=\"M110,-179.5C110,-179.5 12,-179.5 12,-179.5 6,-179.5 0,-173.5 0,-167.5 0,-167.5 0,-123.5 0,-123.5 0,-117.5 6,-111.5 12,-111.5 12,-111.5 110,-111.5 110,-111.5 116,-111.5 122,-117.5 122,-123.5 122,-123.5 122,-167.5 122,-167.5 122,-173.5 116,-179.5 110,-179.5\"/>\n",
              "<text text-anchor=\"middle\" x=\"61\" y=\"-164.3\" font-family=\"Helvetica,sans-Serif\" font-size=\"14.00\">gini = 0.0</text>\n",
              "<text text-anchor=\"middle\" x=\"61\" y=\"-149.3\" font-family=\"Helvetica,sans-Serif\" font-size=\"14.00\">samples = 1935</text>\n",
              "<text text-anchor=\"middle\" x=\"61\" y=\"-134.3\" font-family=\"Helvetica,sans-Serif\" font-size=\"14.00\">value = [0, 1935]</text>\n",
              "<text text-anchor=\"middle\" x=\"61\" y=\"-119.3\" font-family=\"Helvetica,sans-Serif\" font-size=\"14.00\">class = sim</text>\n",
              "</g>\n",
              "<!-- 1&#45;&gt;2 -->\n",
              "<g id=\"edge2\" class=\"edge\">\n",
              "<title>1&#45;&gt;2</title>\n",
              "<path fill=\"none\" stroke=\"black\" d=\"M160.49,-222.58C145.07,-210.79 128.29,-197.95 112.97,-186.24\"/>\n",
              "<polygon fill=\"black\" stroke=\"black\" points=\"115.7,-183.16 105.63,-179.86 111.44,-188.72 115.7,-183.16\"/>\n",
              "</g>\n",
              "<!-- 3 -->\n",
              "<g id=\"node4\" class=\"node\">\n",
              "<title>3</title>\n",
              "<path fill=\"#6bb6ec\" stroke=\"black\" d=\"M275.5,-187C275.5,-187 152.5,-187 152.5,-187 146.5,-187 140.5,-181 140.5,-175 140.5,-175 140.5,-116 140.5,-116 140.5,-110 146.5,-104 152.5,-104 152.5,-104 275.5,-104 275.5,-104 281.5,-104 287.5,-110 287.5,-116 287.5,-116 287.5,-175 287.5,-175 287.5,-181 281.5,-187 275.5,-187\"/>\n",
              "<text text-anchor=\"middle\" x=\"214\" y=\"-171.8\" font-family=\"Helvetica,sans-Serif\" font-size=\"14.00\">preco &lt;= 41083.029</text>\n",
              "<text text-anchor=\"middle\" x=\"214\" y=\"-156.8\" font-family=\"Helvetica,sans-Serif\" font-size=\"14.00\">gini = 0.321</text>\n",
              "<text text-anchor=\"middle\" x=\"214\" y=\"-141.8\" font-family=\"Helvetica,sans-Serif\" font-size=\"14.00\">samples = 2412</text>\n",
              "<text text-anchor=\"middle\" x=\"214\" y=\"-126.8\" font-family=\"Helvetica,sans-Serif\" font-size=\"14.00\">value = [484, 1928]</text>\n",
              "<text text-anchor=\"middle\" x=\"214\" y=\"-111.8\" font-family=\"Helvetica,sans-Serif\" font-size=\"14.00\">class = sim</text>\n",
              "</g>\n",
              "<!-- 1&#45;&gt;3 -->\n",
              "<g id=\"edge3\" class=\"edge\">\n",
              "<title>1&#45;&gt;3</title>\n",
              "<path fill=\"none\" stroke=\"black\" d=\"M214,-222.58C214,-214.7 214,-206.34 214,-198.17\"/>\n",
              "<polygon fill=\"black\" stroke=\"black\" points=\"217.5,-198.2 214,-188.2 210.5,-198.2 217.5,-198.2\"/>\n",
              "</g>\n",
              "<!-- 4 -->\n",
              "<g id=\"node5\" class=\"node\">\n",
              "<title>4</title>\n",
              "<path fill=\"#95cbf1\" stroke=\"black\" d=\"M114.5,-68C114.5,-68 25.5,-68 25.5,-68 19.5,-68 13.5,-62 13.5,-56 13.5,-56 13.5,-12 13.5,-12 13.5,-6 19.5,0 25.5,0 25.5,0 114.5,0 114.5,0 120.5,0 126.5,-6 126.5,-12 126.5,-12 126.5,-56 126.5,-56 126.5,-62 120.5,-68 114.5,-68\"/>\n",
              "<text text-anchor=\"middle\" x=\"70\" y=\"-52.8\" font-family=\"Helvetica,sans-Serif\" font-size=\"14.00\">gini = 0.434</text>\n",
              "<text text-anchor=\"middle\" x=\"70\" y=\"-37.8\" font-family=\"Helvetica,sans-Serif\" font-size=\"14.00\">samples = 110</text>\n",
              "<text text-anchor=\"middle\" x=\"70\" y=\"-22.8\" font-family=\"Helvetica,sans-Serif\" font-size=\"14.00\">value = [35, 75]</text>\n",
              "<text text-anchor=\"middle\" x=\"70\" y=\"-7.8\" font-family=\"Helvetica,sans-Serif\" font-size=\"14.00\">class = sim</text>\n",
              "</g>\n",
              "<!-- 3&#45;&gt;4 -->\n",
              "<g id=\"edge4\" class=\"edge\">\n",
              "<title>3&#45;&gt;4</title>\n",
              "<path fill=\"none\" stroke=\"black\" d=\"M160.38,-103.73C147.91,-94.24 134.64,-84.16 122.23,-74.72\"/>\n",
              "<polygon fill=\"black\" stroke=\"black\" points=\"124.87,-71.57 114.79,-68.3 120.63,-77.14 124.87,-71.57\"/>\n",
              "</g>\n",
              "<!-- 5 -->\n",
              "<g id=\"node6\" class=\"node\">\n",
              "<title>5</title>\n",
              "<path fill=\"#69b5eb\" stroke=\"black\" d=\"M271,-68C271,-68 157,-68 157,-68 151,-68 145,-62 145,-56 145,-56 145,-12 145,-12 145,-6 151,0 157,0 157,0 271,0 271,0 277,0 283,-6 283,-12 283,-12 283,-56 283,-56 283,-62 277,-68 271,-68\"/>\n",
              "<text text-anchor=\"middle\" x=\"214\" y=\"-52.8\" font-family=\"Helvetica,sans-Serif\" font-size=\"14.00\">gini = 0.314</text>\n",
              "<text text-anchor=\"middle\" x=\"214\" y=\"-37.8\" font-family=\"Helvetica,sans-Serif\" font-size=\"14.00\">samples = 2302</text>\n",
              "<text text-anchor=\"middle\" x=\"214\" y=\"-22.8\" font-family=\"Helvetica,sans-Serif\" font-size=\"14.00\">value = [449, 1853]</text>\n",
              "<text text-anchor=\"middle\" x=\"214\" y=\"-7.8\" font-family=\"Helvetica,sans-Serif\" font-size=\"14.00\">class = sim</text>\n",
              "</g>\n",
              "<!-- 3&#45;&gt;5 -->\n",
              "<g id=\"edge5\" class=\"edge\">\n",
              "<title>3&#45;&gt;5</title>\n",
              "<path fill=\"none\" stroke=\"black\" d=\"M214,-103.73C214,-95.7 214,-87.24 214,-79.11\"/>\n",
              "<polygon fill=\"black\" stroke=\"black\" points=\"217.5,-79.3 214,-69.3 210.5,-79.3 217.5,-79.3\"/>\n",
              "</g>\n",
              "<!-- 7 -->\n",
              "<g id=\"node8\" class=\"node\">\n",
              "<title>7</title>\n",
              "<path fill=\"#fcefe5\" stroke=\"black\" d=\"M516,-187C516,-187 394,-187 394,-187 388,-187 382,-181 382,-175 382,-175 382,-116 382,-116 382,-110 388,-104 394,-104 394,-104 516,-104 516,-104 522,-104 528,-110 528,-116 528,-116 528,-175 528,-175 528,-181 522,-187 516,-187\"/>\n",
              "<text text-anchor=\"middle\" x=\"455\" y=\"-171.8\" font-family=\"Helvetica,sans-Serif\" font-size=\"14.00\">preco &lt;= 99974.41</text>\n",
              "<text text-anchor=\"middle\" x=\"455\" y=\"-156.8\" font-family=\"Helvetica,sans-Serif\" font-size=\"14.00\">gini = 0.498</text>\n",
              "<text text-anchor=\"middle\" x=\"455\" y=\"-141.8\" font-family=\"Helvetica,sans-Serif\" font-size=\"14.00\">samples = 3513</text>\n",
              "<text text-anchor=\"middle\" x=\"455\" y=\"-126.8\" font-family=\"Helvetica,sans-Serif\" font-size=\"14.00\">value = [1879, 1634]</text>\n",
              "<text text-anchor=\"middle\" x=\"455\" y=\"-111.8\" font-family=\"Helvetica,sans-Serif\" font-size=\"14.00\">class = não</text>\n",
              "</g>\n",
              "<!-- 6&#45;&gt;7 -->\n",
              "<g id=\"edge7\" class=\"edge\">\n",
              "<title>6&#45;&gt;7</title>\n",
              "<path fill=\"none\" stroke=\"black\" d=\"M455,-222.58C455,-214.7 455,-206.34 455,-198.17\"/>\n",
              "<polygon fill=\"black\" stroke=\"black\" points=\"458.5,-198.2 455,-188.2 451.5,-198.2 458.5,-198.2\"/>\n",
              "</g>\n",
              "<!-- 10 -->\n",
              "<g id=\"node11\" class=\"node\">\n",
              "<title>10</title>\n",
              "<path fill=\"#e9965a\" stroke=\"black\" d=\"M743.5,-187C743.5,-187 612.5,-187 612.5,-187 606.5,-187 600.5,-181 600.5,-175 600.5,-175 600.5,-116 600.5,-116 600.5,-110 606.5,-104 612.5,-104 612.5,-104 743.5,-104 743.5,-104 749.5,-104 755.5,-110 755.5,-116 755.5,-116 755.5,-175 755.5,-175 755.5,-181 749.5,-187 743.5,-187\"/>\n",
              "<text text-anchor=\"middle\" x=\"678\" y=\"-171.8\" font-family=\"Helvetica,sans-Serif\" font-size=\"14.00\">preco &lt;= 100076.957</text>\n",
              "<text text-anchor=\"middle\" x=\"678\" y=\"-156.8\" font-family=\"Helvetica,sans-Serif\" font-size=\"14.00\">gini = 0.243</text>\n",
              "<text text-anchor=\"middle\" x=\"678\" y=\"-141.8\" font-family=\"Helvetica,sans-Serif\" font-size=\"14.00\">samples = 2140</text>\n",
              "<text text-anchor=\"middle\" x=\"678\" y=\"-126.8\" font-family=\"Helvetica,sans-Serif\" font-size=\"14.00\">value = [1837, 303]</text>\n",
              "<text text-anchor=\"middle\" x=\"678\" y=\"-111.8\" font-family=\"Helvetica,sans-Serif\" font-size=\"14.00\">class = não</text>\n",
              "</g>\n",
              "<!-- 6&#45;&gt;10 -->\n",
              "<g id=\"edge10\" class=\"edge\">\n",
              "<title>6&#45;&gt;10</title>\n",
              "<path fill=\"none\" stroke=\"black\" d=\"M532.99,-222.58C551.58,-212.83 571.54,-202.36 590.52,-192.4\"/>\n",
              "<polygon fill=\"black\" stroke=\"black\" points=\"591.82,-195.14 599.05,-187.4 588.57,-188.94 591.82,-195.14\"/>\n",
              "</g>\n",
              "<!-- 8 -->\n",
              "<g id=\"node9\" class=\"node\">\n",
              "<title>8</title>\n",
              "<path fill=\"#f9e0ce\" stroke=\"black\" d=\"M435,-68C435,-68 313,-68 313,-68 307,-68 301,-62 301,-56 301,-56 301,-12 301,-12 301,-6 307,0 313,0 313,0 435,0 435,0 441,0 447,-6 447,-12 447,-12 447,-56 447,-56 447,-62 441,-68 435,-68\"/>\n",
              "<text text-anchor=\"middle\" x=\"374\" y=\"-52.8\" font-family=\"Helvetica,sans-Serif\" font-size=\"14.00\">gini = 0.49</text>\n",
              "<text text-anchor=\"middle\" x=\"374\" y=\"-37.8\" font-family=\"Helvetica,sans-Serif\" font-size=\"14.00\">samples = 2944</text>\n",
              "<text text-anchor=\"middle\" x=\"374\" y=\"-22.8\" font-family=\"Helvetica,sans-Serif\" font-size=\"14.00\">value = [1682, 1262]</text>\n",
              "<text text-anchor=\"middle\" x=\"374\" y=\"-7.8\" font-family=\"Helvetica,sans-Serif\" font-size=\"14.00\">class = não</text>\n",
              "</g>\n",
              "<!-- 7&#45;&gt;8 -->\n",
              "<g id=\"edge8\" class=\"edge\">\n",
              "<title>7&#45;&gt;8</title>\n",
              "<path fill=\"none\" stroke=\"black\" d=\"M424.84,-103.73C418.36,-94.97 411.51,-85.7 405,-76.91\"/>\n",
              "<polygon fill=\"black\" stroke=\"black\" points=\"407.39,-75.26 398.63,-69.3 401.77,-79.42 407.39,-75.26\"/>\n",
              "</g>\n",
              "<!-- 9 -->\n",
              "<g id=\"node10\" class=\"node\">\n",
              "<title>9</title>\n",
              "<path fill=\"#a2d1f3\" stroke=\"black\" d=\"M583,-68C583,-68 477,-68 477,-68 471,-68 465,-62 465,-56 465,-56 465,-12 465,-12 465,-6 471,0 477,0 477,0 583,0 583,0 589,0 595,-6 595,-12 595,-12 595,-56 595,-56 595,-62 589,-68 583,-68\"/>\n",
              "<text text-anchor=\"middle\" x=\"530\" y=\"-52.8\" font-family=\"Helvetica,sans-Serif\" font-size=\"14.00\">gini = 0.453</text>\n",
              "<text text-anchor=\"middle\" x=\"530\" y=\"-37.8\" font-family=\"Helvetica,sans-Serif\" font-size=\"14.00\">samples = 569</text>\n",
              "<text text-anchor=\"middle\" x=\"530\" y=\"-22.8\" font-family=\"Helvetica,sans-Serif\" font-size=\"14.00\">value = [197, 372]</text>\n",
              "<text text-anchor=\"middle\" x=\"530\" y=\"-7.8\" font-family=\"Helvetica,sans-Serif\" font-size=\"14.00\">class = sim</text>\n",
              "</g>\n",
              "<!-- 7&#45;&gt;9 -->\n",
              "<g id=\"edge9\" class=\"edge\">\n",
              "<title>7&#45;&gt;9</title>\n",
              "<path fill=\"none\" stroke=\"black\" d=\"M482.93,-103.73C488.86,-95.06 495.14,-85.9 501.11,-77.18\"/>\n",
              "<polygon fill=\"black\" stroke=\"black\" points=\"504.43,-79.53 507.19,-69.3 498.65,-75.57 504.43,-79.53\"/>\n",
              "</g>\n",
              "<!-- 11 -->\n",
              "<g id=\"node12\" class=\"node\">\n",
              "<title>11</title>\n",
              "<path fill=\"#e68742\" stroke=\"black\" d=\"M731,-68C731,-68 625,-68 625,-68 619,-68 613,-62 613,-56 613,-56 613,-12 613,-12 613,-6 619,0 625,0 625,0 731,0 731,0 737,0 743,-6 743,-12 743,-12 743,-56 743,-56 743,-62 737,-68 731,-68\"/>\n",
              "<text text-anchor=\"middle\" x=\"678\" y=\"-52.8\" font-family=\"Helvetica,sans-Serif\" font-size=\"14.00\">gini = 0.082</text>\n",
              "<text text-anchor=\"middle\" x=\"678\" y=\"-37.8\" font-family=\"Helvetica,sans-Serif\" font-size=\"14.00\">samples = 1809</text>\n",
              "<text text-anchor=\"middle\" x=\"678\" y=\"-22.8\" font-family=\"Helvetica,sans-Serif\" font-size=\"14.00\">value = [1732, 77]</text>\n",
              "<text text-anchor=\"middle\" x=\"678\" y=\"-7.8\" font-family=\"Helvetica,sans-Serif\" font-size=\"14.00\">class = não</text>\n",
              "</g>\n",
              "<!-- 10&#45;&gt;11 -->\n",
              "<g id=\"edge11\" class=\"edge\">\n",
              "<title>10&#45;&gt;11</title>\n",
              "<path fill=\"none\" stroke=\"black\" d=\"M678,-103.73C678,-95.7 678,-87.24 678,-79.11\"/>\n",
              "<polygon fill=\"black\" stroke=\"black\" points=\"681.5,-79.3 678,-69.3 674.5,-79.3 681.5,-79.3\"/>\n",
              "</g>\n",
              "<!-- 12 -->\n",
              "<g id=\"node13\" class=\"node\">\n",
              "<title>12</title>\n",
              "<path fill=\"#95cbf1\" stroke=\"black\" d=\"M879,-68C879,-68 773,-68 773,-68 767,-68 761,-62 761,-56 761,-56 761,-12 761,-12 761,-6 767,0 773,0 773,0 879,0 879,0 885,0 891,-6 891,-12 891,-12 891,-56 891,-56 891,-62 885,-68 879,-68\"/>\n",
              "<text text-anchor=\"middle\" x=\"826\" y=\"-52.8\" font-family=\"Helvetica,sans-Serif\" font-size=\"14.00\">gini = 0.433</text>\n",
              "<text text-anchor=\"middle\" x=\"826\" y=\"-37.8\" font-family=\"Helvetica,sans-Serif\" font-size=\"14.00\">samples = 331</text>\n",
              "<text text-anchor=\"middle\" x=\"826\" y=\"-22.8\" font-family=\"Helvetica,sans-Serif\" font-size=\"14.00\">value = [105, 226]</text>\n",
              "<text text-anchor=\"middle\" x=\"826\" y=\"-7.8\" font-family=\"Helvetica,sans-Serif\" font-size=\"14.00\">class = sim</text>\n",
              "</g>\n",
              "<!-- 10&#45;&gt;12 -->\n",
              "<g id=\"edge12\" class=\"edge\">\n",
              "<title>10&#45;&gt;12</title>\n",
              "<path fill=\"none\" stroke=\"black\" d=\"M733.11,-103.73C745.93,-94.24 759.56,-84.16 772.32,-74.72\"/>\n",
              "<polygon fill=\"black\" stroke=\"black\" points=\"774.04,-77.06 779.99,-68.3 769.87,-71.43 774.04,-77.06\"/>\n",
              "</g>\n",
              "</g>\n",
              "</svg>\n"
            ],
            "text/plain": [
              "<graphviz.sources.Source at 0x251f3882d50>"
            ]
          },
          "execution_count": 66,
          "metadata": {},
          "output_type": "execute_result"
        }
      ],
      "source": [
        "from sklearn.tree import export_graphviz\n",
        "import graphviz\n",
        "\n",
        "modelo.fit(x_azar, y_azar)\n",
        "features = x_azar.columns\n",
        "dot_data = export_graphviz(modelo, out_file=None, filled=True, rounded=True, class_names=[\"não\",\"sim\"], feature_names = features) # type: ignore\n",
        "graph = graphviz.Source(dot_data)\n",
        "graph"
      ]
    },
    {
      "cell_type": "code",
      "execution_count": 67,
      "metadata": {
        "colab": {
          "base_uri": "https://localhost:8080/",
          "height": 50
        },
        "colab_type": "code",
        "id": "2mZNqHhCQ7DO",
        "outputId": "e74e04e4-ddf8-442d-f530-ab40b3db04dc"
      },
      "outputs": [
        {
          "name": "stdout",
          "output_type": "stream",
          "text": [
            "Accuracy médio 77.19\n",
            "Intervalo [75.26, 79.13]\n"
          ]
        }
      ],
      "source": [
        "# GroupKFold para analisar como o modelo se comporta com novos grupos\n",
        "\n",
        "from sklearn.model_selection import GroupKFold\n",
        "\n",
        "SEED = 301\n",
        "np.random.seed(SEED)\n",
        "\n",
        "cv = GroupKFold(n_splits = 10)\n",
        "modelo = DecisionTreeClassifier(max_depth=10)\n",
        "results = cross_validate(modelo, x_azar, y_azar, cv = cv, groups = dados.modelo, return_train_score=False)\n",
        "imprime_resultados(results)"
      ]
    },
    {
      "cell_type": "markdown",
      "metadata": {
        "colab_type": "text",
        "id": "GMXJcGqWTiIp"
      },
      "source": [
        "# Explorando hiper parâmetros em uma dimensão"
      ]
    },
    {
      "cell_type": "code",
      "execution_count": 68,
      "metadata": {
        "colab": {
          "base_uri": "https://localhost:8080/",
          "height": 733
        },
        "colab_type": "code",
        "id": "xTV7Tc4aRFTF",
        "outputId": "a5d355cc-fb81-4c99-d67c-bf445de7d9fc"
      },
      "outputs": [
        {
          "name": "stdout",
          "output_type": "stream",
          "text": [
            "Arvore max_depth = 1, treino = 75.79, teste = 75.78\n",
            "Arvore max_depth = 2, treino = 75.79, teste = 75.78\n",
            "Arvore max_depth = 3, treino = 78.75, teste = 78.67\n",
            "Arvore max_depth = 4, treino = 78.79, teste = 78.63\n",
            "Arvore max_depth = 5, treino = 78.94, teste = 78.56\n",
            "Arvore max_depth = 6, treino = 79.17, teste = 78.12\n",
            "Arvore max_depth = 7, treino = 79.50, teste = 77.96\n",
            "Arvore max_depth = 8, treino = 79.89, teste = 77.86\n",
            "Arvore max_depth = 9, treino = 80.46, teste = 77.38\n",
            "Arvore max_depth = 10, treino = 81.16, teste = 77.19\n",
            "Arvore max_depth = 11, treino = 82.03, teste = 76.97\n",
            "Arvore max_depth = 12, treino = 82.89, teste = 76.49\n",
            "Arvore max_depth = 13, treino = 83.95, teste = 75.81\n",
            "Arvore max_depth = 14, treino = 85.03, teste = 75.66\n",
            "Arvore max_depth = 15, treino = 86.14, teste = 75.16\n",
            "Arvore max_depth = 16, treino = 87.19, teste = 75.11\n",
            "Arvore max_depth = 17, treino = 88.31, teste = 74.74\n",
            "Arvore max_depth = 18, treino = 89.26, teste = 74.33\n",
            "Arvore max_depth = 19, treino = 90.32, teste = 74.34\n",
            "Arvore max_depth = 20, treino = 91.32, teste = 74.22\n",
            "Arvore max_depth = 21, treino = 92.14, teste = 73.80\n",
            "Arvore max_depth = 22, treino = 93.02, teste = 73.81\n",
            "Arvore max_depth = 23, treino = 93.80, teste = 73.38\n",
            "Arvore max_depth = 24, treino = 94.47, teste = 73.43\n",
            "Arvore max_depth = 25, treino = 95.16, teste = 73.14\n",
            "Arvore max_depth = 26, treino = 95.74, teste = 73.04\n",
            "Arvore max_depth = 27, treino = 96.33, teste = 72.91\n",
            "Arvore max_depth = 28, treino = 96.75, teste = 72.66\n",
            "Arvore max_depth = 29, treino = 97.10, teste = 72.73\n",
            "Arvore max_depth = 30, treino = 97.43, teste = 72.81\n",
            "Arvore max_depth = 31, treino = 97.80, teste = 72.86\n",
            "Arvore max_depth = 32, treino = 98.10, teste = 72.52\n"
          ]
        },
        {
          "data": {
            "text/html": [
              "<div>\n",
              "<style scoped>\n",
              "    .dataframe tbody tr th:only-of-type {\n",
              "        vertical-align: middle;\n",
              "    }\n",
              "\n",
              "    .dataframe tbody tr th {\n",
              "        vertical-align: top;\n",
              "    }\n",
              "\n",
              "    .dataframe thead th {\n",
              "        text-align: right;\n",
              "    }\n",
              "</style>\n",
              "<table border=\"1\" class=\"dataframe\">\n",
              "  <thead>\n",
              "    <tr style=\"text-align: right;\">\n",
              "      <th></th>\n",
              "      <th>max_depth</th>\n",
              "      <th>train</th>\n",
              "      <th>test</th>\n",
              "    </tr>\n",
              "  </thead>\n",
              "  <tbody>\n",
              "    <tr>\n",
              "      <th>0</th>\n",
              "      <td>1</td>\n",
              "      <td>75.791169</td>\n",
              "      <td>75.784219</td>\n",
              "    </tr>\n",
              "    <tr>\n",
              "      <th>1</th>\n",
              "      <td>2</td>\n",
              "      <td>75.791169</td>\n",
              "      <td>75.784219</td>\n",
              "    </tr>\n",
              "    <tr>\n",
              "      <th>2</th>\n",
              "      <td>3</td>\n",
              "      <td>78.750993</td>\n",
              "      <td>78.672633</td>\n",
              "    </tr>\n",
              "    <tr>\n",
              "      <th>3</th>\n",
              "      <td>4</td>\n",
              "      <td>78.787628</td>\n",
              "      <td>78.632803</td>\n",
              "    </tr>\n",
              "    <tr>\n",
              "      <th>4</th>\n",
              "      <td>5</td>\n",
              "      <td>78.941007</td>\n",
              "      <td>78.555912</td>\n",
              "    </tr>\n",
              "  </tbody>\n",
              "</table>\n",
              "</div>"
            ],
            "text/plain": [
              "   max_depth      train       test\n",
              "0          1  75.791169  75.784219\n",
              "1          2  75.791169  75.784219\n",
              "2          3  78.750993  78.672633\n",
              "3          4  78.787628  78.632803\n",
              "4          5  78.941007  78.555912"
            ]
          },
          "execution_count": 68,
          "metadata": {},
          "output_type": "execute_result"
        }
      ],
      "source": [
        "def roda_arvore_de_decisao(max_depth):\n",
        "  SEED = 301\n",
        "  np.random.seed(SEED)\n",
        "\n",
        "  cv = GroupKFold(n_splits = 10)\n",
        "  modelo = DecisionTreeClassifier(max_depth=max_depth)\n",
        "  results = cross_validate(modelo, x_azar, y_azar, cv = cv, groups = dados.modelo, return_train_score=True)\n",
        "  train_score = results['train_score'].mean() * 100\n",
        "  test_score = results['test_score'].mean() * 100\n",
        "  print(\"Arvore max_depth = %d, treino = %.2f, teste = %.2f\" % (max_depth, train_score, test_score))\n",
        "  tabela = [max_depth, train_score, test_score]\n",
        "  return tabela\n",
        "  \n",
        "resultados = [roda_arvore_de_decisao(i) for i in range(1,33)]\n",
        "resultados = pd.DataFrame(resultados, columns= [\"max_depth\",\"train\",\"test\"])\n",
        "resultados.head()"
      ]
    },
    {
      "cell_type": "code",
      "execution_count": 69,
      "metadata": {
        "colab": {
          "base_uri": "https://localhost:8080/",
          "height": 301
        },
        "colab_type": "code",
        "id": "6HBLCc7QTsLt",
        "outputId": "5c14e473-e4ac-4913-8e17-89a417896d2a"
      },
      "outputs": [
        {
          "data": {
            "image/png": "[encoded data removed]",
            "text/plain": [
              "<Figure size 640x480 with 1 Axes>"
            ]
          },
          "metadata": {},
          "output_type": "display_data"
        }
      ],
      "source": [
        "import seaborn as sns\n",
        "\n",
        "ax = sns.lineplot(x = \"max_depth\", y = \"train\", data = resultados)\n",
        "ax = ax"
      ]
    },
    {
      "cell_type": "markdown",
      "metadata": {
        "colab_type": "text",
        "id": "j-o6VtTrXbhu"
      },
      "source": [
        "# OVERFIT: ficou \"perfeito\" para o treino mas ruim para o teste"
      ]
    },
    {
      "cell_type": "code",
      "execution_count": 70,
      "metadata": {
        "colab": {
          "base_uri": "https://localhost:8080/",
          "height": 301
        },
        "colab_type": "code",
        "id": "OhwJ_FAnWOlq",
        "outputId": "b136f667-4257-48eb-9bc5-b7f0fe53f4fb"
      },
      "outputs": [
        {
          "data": {
            "text/plain": [
              "<matplotlib.legend.Legend at 0x251956d5dd0>"
            ]
          },
          "execution_count": 70,
          "metadata": {},
          "output_type": "execute_result"
        },
        {
          "data": {
            "image/png": "[encoded data removed]",
            "text/plain": [
              "<Figure size 640x480 with 1 Axes>"
            ]
          },
          "metadata": {},
          "output_type": "display_data"
        }
      ],
      "source": [
        "import matplotlib.pyplot as plt\n",
        "\n",
        "sns.lineplot(x = \"max_depth\", y = \"train\", data = resultados)\n",
        "sns.lineplot(x = \"max_depth\", y = \"test\", data = resultados)\n",
        "plt.legend([\"Treino\", \"Teste\"])"
      ]
    },
    {
      "cell_type": "code",
      "execution_count": 71,
      "metadata": {
        "colab": {
          "base_uri": "https://localhost:8080/",
          "height": 195
        },
        "colab_type": "code",
        "id": "wXmQpoGaXXqP",
        "outputId": "40f9ea94-6de4-4dff-fff1-d8ebc7739f63"
      },
      "outputs": [
        {
          "data": {
            "text/html": [
              "<div>\n",
              "<style scoped>\n",
              "    .dataframe tbody tr th:only-of-type {\n",
              "        vertical-align: middle;\n",
              "    }\n",
              "\n",
              "    .dataframe tbody tr th {\n",
              "        vertical-align: top;\n",
              "    }\n",
              "\n",
              "    .dataframe thead th {\n",
              "        text-align: right;\n",
              "    }\n",
              "</style>\n",
              "<table border=\"1\" class=\"dataframe\">\n",
              "  <thead>\n",
              "    <tr style=\"text-align: right;\">\n",
              "      <th></th>\n",
              "      <th>max_depth</th>\n",
              "      <th>train</th>\n",
              "      <th>test</th>\n",
              "    </tr>\n",
              "  </thead>\n",
              "  <tbody>\n",
              "    <tr>\n",
              "      <th>2</th>\n",
              "      <td>3</td>\n",
              "      <td>78.750993</td>\n",
              "      <td>78.672633</td>\n",
              "    </tr>\n",
              "    <tr>\n",
              "      <th>3</th>\n",
              "      <td>4</td>\n",
              "      <td>78.787628</td>\n",
              "      <td>78.632803</td>\n",
              "    </tr>\n",
              "    <tr>\n",
              "      <th>4</th>\n",
              "      <td>5</td>\n",
              "      <td>78.941007</td>\n",
              "      <td>78.555912</td>\n",
              "    </tr>\n",
              "    <tr>\n",
              "      <th>5</th>\n",
              "      <td>6</td>\n",
              "      <td>79.170115</td>\n",
              "      <td>78.123266</td>\n",
              "    </tr>\n",
              "    <tr>\n",
              "      <th>6</th>\n",
              "      <td>7</td>\n",
              "      <td>79.496806</td>\n",
              "      <td>77.963185</td>\n",
              "    </tr>\n",
              "  </tbody>\n",
              "</table>\n",
              "</div>"
            ],
            "text/plain": [
              "   max_depth      train       test\n",
              "2          3  78.750993  78.672633\n",
              "3          4  78.787628  78.632803\n",
              "4          5  78.941007  78.555912\n",
              "5          6  79.170115  78.123266\n",
              "6          7  79.496806  77.963185"
            ]
          },
          "execution_count": 71,
          "metadata": {},
          "output_type": "execute_result"
        }
      ],
      "source": [
        "resultados.sort_values(\"test\", ascending=False).head() # type: ignore"
      ]
    },
    {
      "cell_type": "markdown",
      "metadata": {
        "colab_type": "text",
        "id": "SnW9-CTjcpWp"
      },
      "source": [
        "# Explorando hiper parâmetros em 2 dimensões"
      ]
    },
    {
      "cell_type": "code",
      "execution_count": 72,
      "metadata": {
        "colab": {
          "base_uri": "https://localhost:8080/",
          "height": 2346
        },
        "colab_type": "code",
        "id": "Odrf-gsWXl9u",
        "outputId": "5cd04740-d6c5-40f9-9032-21a12a3f0207"
      },
      "outputs": [
        {
          "name": "stdout",
          "output_type": "stream",
          "text": [
            "Arvore max_depth = 1, min_samples_leaf = 32, treino = 75.79, teste = 75.78\n",
            "Arvore max_depth = 1, min_samples_leaf = 64, treino = 75.79, teste = 75.78\n",
            "Arvore max_depth = 1, min_samples_leaf = 128, treino = 75.79, teste = 75.78\n",
            "Arvore max_depth = 1, min_samples_leaf = 256, treino = 75.79, teste = 75.78\n",
            "Arvore max_depth = 2, min_samples_leaf = 32, treino = 75.79, teste = 75.78\n",
            "Arvore max_depth = 2, min_samples_leaf = 64, treino = 75.79, teste = 75.78\n",
            "Arvore max_depth = 2, min_samples_leaf = 128, treino = 75.79, teste = 75.78\n",
            "Arvore max_depth = 2, min_samples_leaf = 256, treino = 75.79, teste = 75.78\n",
            "Arvore max_depth = 3, min_samples_leaf = 32, treino = 78.75, teste = 78.67\n",
            "Arvore max_depth = 3, min_samples_leaf = 64, treino = 78.75, teste = 78.67\n",
            "Arvore max_depth = 3, min_samples_leaf = 128, treino = 78.75, teste = 78.67\n",
            "Arvore max_depth = 3, min_samples_leaf = 256, treino = 78.75, teste = 78.67\n",
            "Arvore max_depth = 4, min_samples_leaf = 32, treino = 78.75, teste = 78.67\n",
            "Arvore max_depth = 4, min_samples_leaf = 64, treino = 78.75, teste = 78.67\n",
            "Arvore max_depth = 4, min_samples_leaf = 128, treino = 78.75, teste = 78.67\n",
            "Arvore max_depth = 4, min_samples_leaf = 256, treino = 78.75, teste = 78.67\n",
            "Arvore max_depth = 5, min_samples_leaf = 32, treino = 78.82, teste = 78.50\n",
            "Arvore max_depth = 5, min_samples_leaf = 64, treino = 78.79, teste = 78.45\n",
            "Arvore max_depth = 5, min_samples_leaf = 128, treino = 78.77, teste = 78.44\n",
            "Arvore max_depth = 5, min_samples_leaf = 256, treino = 78.77, teste = 78.44\n",
            "Arvore max_depth = 6, min_samples_leaf = 32, treino = 78.96, teste = 78.02\n",
            "Arvore max_depth = 6, min_samples_leaf = 64, treino = 78.92, teste = 78.09\n",
            "Arvore max_depth = 6, min_samples_leaf = 128, treino = 78.85, teste = 78.27\n",
            "Arvore max_depth = 6, min_samples_leaf = 256, treino = 78.79, teste = 78.27\n",
            "Arvore max_depth = 7, min_samples_leaf = 32, treino = 79.24, teste = 77.94\n",
            "Arvore max_depth = 7, min_samples_leaf = 64, treino = 79.18, teste = 78.05\n",
            "Arvore max_depth = 7, min_samples_leaf = 128, treino = 79.01, teste = 78.21\n",
            "Arvore max_depth = 7, min_samples_leaf = 256, treino = 78.85, teste = 78.08\n",
            "Arvore max_depth = 8, min_samples_leaf = 32, treino = 79.47, teste = 77.93\n",
            "Arvore max_depth = 8, min_samples_leaf = 64, treino = 79.30, teste = 77.99\n",
            "Arvore max_depth = 8, min_samples_leaf = 128, treino = 79.05, teste = 78.37\n",
            "Arvore max_depth = 8, min_samples_leaf = 256, treino = 78.89, teste = 77.94\n",
            "Arvore max_depth = 9, min_samples_leaf = 32, treino = 79.80, teste = 77.32\n",
            "Arvore max_depth = 9, min_samples_leaf = 64, treino = 79.46, teste = 77.55\n",
            "Arvore max_depth = 9, min_samples_leaf = 128, treino = 79.12, teste = 78.30\n",
            "Arvore max_depth = 9, min_samples_leaf = 256, treino = 78.90, teste = 77.85\n",
            "Arvore max_depth = 10, min_samples_leaf = 32, treino = 80.05, teste = 77.45\n",
            "Arvore max_depth = 10, min_samples_leaf = 64, treino = 79.55, teste = 77.64\n",
            "Arvore max_depth = 10, min_samples_leaf = 128, treino = 79.16, teste = 78.29\n",
            "Arvore max_depth = 10, min_samples_leaf = 256, treino = 78.90, teste = 77.85\n",
            "Arvore max_depth = 11, min_samples_leaf = 32, treino = 80.21, teste = 77.20\n",
            "Arvore max_depth = 11, min_samples_leaf = 64, treino = 79.60, teste = 77.53\n",
            "Arvore max_depth = 11, min_samples_leaf = 128, treino = 79.19, teste = 78.31\n",
            "Arvore max_depth = 11, min_samples_leaf = 256, treino = 78.90, teste = 77.85\n",
            "Arvore max_depth = 12, min_samples_leaf = 32, treino = 80.34, teste = 77.00\n",
            "Arvore max_depth = 12, min_samples_leaf = 64, treino = 79.72, teste = 77.29\n",
            "Arvore max_depth = 12, min_samples_leaf = 128, treino = 79.21, teste = 78.22\n",
            "Arvore max_depth = 12, min_samples_leaf = 256, treino = 78.90, teste = 77.85\n",
            "Arvore max_depth = 13, min_samples_leaf = 32, treino = 80.51, teste = 76.85\n",
            "Arvore max_depth = 13, min_samples_leaf = 64, treino = 79.74, teste = 77.34\n",
            "Arvore max_depth = 13, min_samples_leaf = 128, treino = 79.21, teste = 78.22\n",
            "Arvore max_depth = 13, min_samples_leaf = 256, treino = 78.90, teste = 77.85\n",
            "Arvore max_depth = 14, min_samples_leaf = 32, treino = 80.60, teste = 76.69\n",
            "Arvore max_depth = 14, min_samples_leaf = 64, treino = 79.77, teste = 77.26\n",
            "Arvore max_depth = 14, min_samples_leaf = 128, treino = 79.21, teste = 78.22\n",
            "Arvore max_depth = 14, min_samples_leaf = 256, treino = 78.90, teste = 77.85\n",
            "Arvore max_depth = 15, min_samples_leaf = 32, treino = 80.70, teste = 76.88\n",
            "Arvore max_depth = 15, min_samples_leaf = 64, treino = 79.79, teste = 77.30\n",
            "Arvore max_depth = 15, min_samples_leaf = 128, treino = 79.21, teste = 78.22\n",
            "Arvore max_depth = 15, min_samples_leaf = 256, treino = 78.90, teste = 77.85\n",
            "Arvore max_depth = 16, min_samples_leaf = 32, treino = 80.76, teste = 76.87\n",
            "Arvore max_depth = 16, min_samples_leaf = 64, treino = 79.79, teste = 77.30\n",
            "Arvore max_depth = 16, min_samples_leaf = 128, treino = 79.21, teste = 78.22\n",
            "Arvore max_depth = 16, min_samples_leaf = 256, treino = 78.90, teste = 77.85\n",
            "Arvore max_depth = 17, min_samples_leaf = 32, treino = 80.82, teste = 76.98\n",
            "Arvore max_depth = 17, min_samples_leaf = 64, treino = 79.79, teste = 77.30\n",
            "Arvore max_depth = 17, min_samples_leaf = 128, treino = 79.21, teste = 78.22\n",
            "Arvore max_depth = 17, min_samples_leaf = 256, treino = 78.90, teste = 77.85\n",
            "Arvore max_depth = 18, min_samples_leaf = 32, treino = 80.85, teste = 76.86\n",
            "Arvore max_depth = 18, min_samples_leaf = 64, treino = 79.79, teste = 77.30\n",
            "Arvore max_depth = 18, min_samples_leaf = 128, treino = 79.21, teste = 78.22\n",
            "Arvore max_depth = 18, min_samples_leaf = 256, treino = 78.90, teste = 77.85\n",
            "Arvore max_depth = 19, min_samples_leaf = 32, treino = 80.86, teste = 76.89\n",
            "Arvore max_depth = 19, min_samples_leaf = 64, treino = 79.79, teste = 77.30\n",
            "Arvore max_depth = 19, min_samples_leaf = 128, treino = 79.21, teste = 78.22\n",
            "Arvore max_depth = 19, min_samples_leaf = 256, treino = 78.90, teste = 77.85\n",
            "Arvore max_depth = 20, min_samples_leaf = 32, treino = 80.88, teste = 76.87\n",
            "Arvore max_depth = 20, min_samples_leaf = 64, treino = 79.79, teste = 77.30\n",
            "Arvore max_depth = 20, min_samples_leaf = 128, treino = 79.21, teste = 78.22\n",
            "Arvore max_depth = 20, min_samples_leaf = 256, treino = 78.90, teste = 77.85\n",
            "Arvore max_depth = 21, min_samples_leaf = 32, treino = 80.88, teste = 76.92\n",
            "Arvore max_depth = 21, min_samples_leaf = 64, treino = 79.79, teste = 77.30\n",
            "Arvore max_depth = 21, min_samples_leaf = 128, treino = 79.21, teste = 78.22\n",
            "Arvore max_depth = 21, min_samples_leaf = 256, treino = 78.90, teste = 77.85\n",
            "Arvore max_depth = 22, min_samples_leaf = 32, treino = 80.88, teste = 76.87\n",
            "Arvore max_depth = 22, min_samples_leaf = 64, treino = 79.79, teste = 77.30\n",
            "Arvore max_depth = 22, min_samples_leaf = 128, treino = 79.21, teste = 78.22\n",
            "Arvore max_depth = 22, min_samples_leaf = 256, treino = 78.90, teste = 77.85\n",
            "Arvore max_depth = 23, min_samples_leaf = 32, treino = 80.88, teste = 76.87\n",
            "Arvore max_depth = 23, min_samples_leaf = 64, treino = 79.79, teste = 77.30\n",
            "Arvore max_depth = 23, min_samples_leaf = 128, treino = 79.21, teste = 78.22\n",
            "Arvore max_depth = 23, min_samples_leaf = 256, treino = 78.90, teste = 77.85\n",
            "Arvore max_depth = 24, min_samples_leaf = 32, treino = 80.89, teste = 76.84\n",
            "Arvore max_depth = 24, min_samples_leaf = 64, treino = 79.79, teste = 77.30\n",
            "Arvore max_depth = 24, min_samples_leaf = 128, treino = 79.21, teste = 78.22\n",
            "Arvore max_depth = 24, min_samples_leaf = 256, treino = 78.90, teste = 77.85\n",
            "Arvore max_depth = 25, min_samples_leaf = 32, treino = 80.89, teste = 76.84\n",
            "Arvore max_depth = 25, min_samples_leaf = 64, treino = 79.79, teste = 77.30\n",
            "Arvore max_depth = 25, min_samples_leaf = 128, treino = 79.21, teste = 78.22\n",
            "Arvore max_depth = 25, min_samples_leaf = 256, treino = 78.90, teste = 77.85\n",
            "Arvore max_depth = 26, min_samples_leaf = 32, treino = 80.89, teste = 76.84\n",
            "Arvore max_depth = 26, min_samples_leaf = 64, treino = 79.79, teste = 77.30\n",
            "Arvore max_depth = 26, min_samples_leaf = 128, treino = 79.21, teste = 78.22\n",
            "Arvore max_depth = 26, min_samples_leaf = 256, treino = 78.90, teste = 77.85\n",
            "Arvore max_depth = 27, min_samples_leaf = 32, treino = 80.89, teste = 76.84\n",
            "Arvore max_depth = 27, min_samples_leaf = 64, treino = 79.79, teste = 77.30\n",
            "Arvore max_depth = 27, min_samples_leaf = 128, treino = 79.21, teste = 78.22\n",
            "Arvore max_depth = 27, min_samples_leaf = 256, treino = 78.90, teste = 77.85\n",
            "Arvore max_depth = 28, min_samples_leaf = 32, treino = 80.89, teste = 76.84\n",
            "Arvore max_depth = 28, min_samples_leaf = 64, treino = 79.79, teste = 77.30\n",
            "Arvore max_depth = 28, min_samples_leaf = 128, treino = 79.21, teste = 78.22\n",
            "Arvore max_depth = 28, min_samples_leaf = 256, treino = 78.90, teste = 77.85\n",
            "Arvore max_depth = 29, min_samples_leaf = 32, treino = 80.89, teste = 76.84\n",
            "Arvore max_depth = 29, min_samples_leaf = 64, treino = 79.79, teste = 77.30\n",
            "Arvore max_depth = 29, min_samples_leaf = 128, treino = 79.21, teste = 78.22\n",
            "Arvore max_depth = 29, min_samples_leaf = 256, treino = 78.90, teste = 77.85\n",
            "Arvore max_depth = 30, min_samples_leaf = 32, treino = 80.89, teste = 76.84\n",
            "Arvore max_depth = 30, min_samples_leaf = 64, treino = 79.79, teste = 77.30\n",
            "Arvore max_depth = 30, min_samples_leaf = 128, treino = 79.21, teste = 78.22\n",
            "Arvore max_depth = 30, min_samples_leaf = 256, treino = 78.90, teste = 77.85\n",
            "Arvore max_depth = 31, min_samples_leaf = 32, treino = 80.89, teste = 76.84\n",
            "Arvore max_depth = 31, min_samples_leaf = 64, treino = 79.79, teste = 77.30\n",
            "Arvore max_depth = 31, min_samples_leaf = 128, treino = 79.21, teste = 78.22\n",
            "Arvore max_depth = 31, min_samples_leaf = 256, treino = 78.90, teste = 77.85\n",
            "Arvore max_depth = 32, min_samples_leaf = 32, treino = 80.89, teste = 76.84\n",
            "Arvore max_depth = 32, min_samples_leaf = 64, treino = 79.79, teste = 77.30\n",
            "Arvore max_depth = 32, min_samples_leaf = 128, treino = 79.21, teste = 78.22\n",
            "Arvore max_depth = 32, min_samples_leaf = 256, treino = 78.90, teste = 77.85\n"
          ]
        },
        {
          "data": {
            "text/html": [
              "<div>\n",
              "<style scoped>\n",
              "    .dataframe tbody tr th:only-of-type {\n",
              "        vertical-align: middle;\n",
              "    }\n",
              "\n",
              "    .dataframe tbody tr th {\n",
              "        vertical-align: top;\n",
              "    }\n",
              "\n",
              "    .dataframe thead th {\n",
              "        text-align: right;\n",
              "    }\n",
              "</style>\n",
              "<table border=\"1\" class=\"dataframe\">\n",
              "  <thead>\n",
              "    <tr style=\"text-align: right;\">\n",
              "      <th></th>\n",
              "      <th>max_depth</th>\n",
              "      <th>min_samples_leaf</th>\n",
              "      <th>train</th>\n",
              "      <th>test</th>\n",
              "    </tr>\n",
              "  </thead>\n",
              "  <tbody>\n",
              "    <tr>\n",
              "      <th>0</th>\n",
              "      <td>1</td>\n",
              "      <td>32</td>\n",
              "      <td>75.791169</td>\n",
              "      <td>75.784219</td>\n",
              "    </tr>\n",
              "    <tr>\n",
              "      <th>1</th>\n",
              "      <td>1</td>\n",
              "      <td>64</td>\n",
              "      <td>75.791169</td>\n",
              "      <td>75.784219</td>\n",
              "    </tr>\n",
              "    <tr>\n",
              "      <th>2</th>\n",
              "      <td>1</td>\n",
              "      <td>128</td>\n",
              "      <td>75.791169</td>\n",
              "      <td>75.784219</td>\n",
              "    </tr>\n",
              "    <tr>\n",
              "      <th>3</th>\n",
              "      <td>1</td>\n",
              "      <td>256</td>\n",
              "      <td>75.791169</td>\n",
              "      <td>75.784219</td>\n",
              "    </tr>\n",
              "    <tr>\n",
              "      <th>4</th>\n",
              "      <td>2</td>\n",
              "      <td>32</td>\n",
              "      <td>75.791169</td>\n",
              "      <td>75.784219</td>\n",
              "    </tr>\n",
              "  </tbody>\n",
              "</table>\n",
              "</div>"
            ],
            "text/plain": [
              "   max_depth  min_samples_leaf      train       test\n",
              "0          1                32  75.791169  75.784219\n",
              "1          1                64  75.791169  75.784219\n",
              "2          1               128  75.791169  75.784219\n",
              "3          1               256  75.791169  75.784219\n",
              "4          2                32  75.791169  75.784219"
            ]
          },
          "execution_count": 72,
          "metadata": {},
          "output_type": "execute_result"
        }
      ],
      "source": [
        "def roda_arvore_de_decisao(max_depth, min_samples_leaf):\n",
        "  SEED = 301\n",
        "  np.random.seed(SEED)\n",
        "\n",
        "  cv = GroupKFold(n_splits = 10)\n",
        "  modelo = DecisionTreeClassifier(max_depth=max_depth, min_samples_leaf = min_samples_leaf)\n",
        "  results = cross_validate(modelo, x_azar, y_azar, cv = cv, groups = dados.modelo, return_train_score=True)\n",
        "  train_score = results['train_score'].mean() * 100\n",
        "  test_score = results['test_score'].mean() * 100\n",
        "  print(\"Arvore max_depth = %d, min_samples_leaf = %d, treino = %.2f, teste = %.2f\" % (max_depth, min_samples_leaf, train_score, test_score))\n",
        "  tabela = [max_depth, min_samples_leaf, train_score, test_score]\n",
        "  return tabela\n",
        "\n",
        "def busca():\n",
        "  resultados = []\n",
        "  for max_depth in range(1,33):\n",
        "    for min_samples_leaf in [32, 64, 128, 256]:\n",
        "      tabela = roda_arvore_de_decisao(max_depth, min_samples_leaf)\n",
        "      resultados.append(tabela)\n",
        "  resultados = pd.DataFrame(resultados, columns= [\"max_depth\",\"min_samples_leaf\",\"train\",\"test\"])\n",
        "  return resultados\n",
        "\n",
        "resultados = busca()\n",
        "resultados.head()"
      ]
    },
    {
      "cell_type": "code",
      "execution_count": 73,
      "metadata": {
        "colab": {
          "base_uri": "https://localhost:8080/",
          "height": 195
        },
        "colab_type": "code",
        "id": "FEl16TSwdQgW",
        "outputId": "fc9d64cb-cdce-4f25-ffa2-682fd581513a"
      },
      "outputs": [
        {
          "data": {
            "text/html": [
              "<div>\n",
              "<style scoped>\n",
              "    .dataframe tbody tr th:only-of-type {\n",
              "        vertical-align: middle;\n",
              "    }\n",
              "\n",
              "    .dataframe tbody tr th {\n",
              "        vertical-align: top;\n",
              "    }\n",
              "\n",
              "    .dataframe thead th {\n",
              "        text-align: right;\n",
              "    }\n",
              "</style>\n",
              "<table border=\"1\" class=\"dataframe\">\n",
              "  <thead>\n",
              "    <tr style=\"text-align: right;\">\n",
              "      <th></th>\n",
              "      <th>max_depth</th>\n",
              "      <th>min_samples_leaf</th>\n",
              "      <th>train</th>\n",
              "      <th>test</th>\n",
              "    </tr>\n",
              "  </thead>\n",
              "  <tbody>\n",
              "    <tr>\n",
              "      <th>15</th>\n",
              "      <td>4</td>\n",
              "      <td>256</td>\n",
              "      <td>78.750993</td>\n",
              "      <td>78.672633</td>\n",
              "    </tr>\n",
              "    <tr>\n",
              "      <th>12</th>\n",
              "      <td>4</td>\n",
              "      <td>32</td>\n",
              "      <td>78.750993</td>\n",
              "      <td>78.672633</td>\n",
              "    </tr>\n",
              "    <tr>\n",
              "      <th>14</th>\n",
              "      <td>4</td>\n",
              "      <td>128</td>\n",
              "      <td>78.750993</td>\n",
              "      <td>78.672633</td>\n",
              "    </tr>\n",
              "    <tr>\n",
              "      <th>13</th>\n",
              "      <td>4</td>\n",
              "      <td>64</td>\n",
              "      <td>78.750993</td>\n",
              "      <td>78.672633</td>\n",
              "    </tr>\n",
              "    <tr>\n",
              "      <th>8</th>\n",
              "      <td>3</td>\n",
              "      <td>32</td>\n",
              "      <td>78.750993</td>\n",
              "      <td>78.672633</td>\n",
              "    </tr>\n",
              "  </tbody>\n",
              "</table>\n",
              "</div>"
            ],
            "text/plain": [
              "    max_depth  min_samples_leaf      train       test\n",
              "15          4               256  78.750993  78.672633\n",
              "12          4                32  78.750993  78.672633\n",
              "14          4               128  78.750993  78.672633\n",
              "13          4                64  78.750993  78.672633\n",
              "8           3                32  78.750993  78.672633"
            ]
          },
          "execution_count": 73,
          "metadata": {},
          "output_type": "execute_result"
        }
      ],
      "source": [
        "resultados.sort_values(\"test\", ascending=False).head()"
      ]
    },
    {
      "cell_type": "code",
      "execution_count": 74,
      "metadata": {
        "colab": {
          "base_uri": "https://localhost:8080/",
          "height": 166
        },
        "colab_type": "code",
        "id": "lZsBCpgRd6Yh",
        "outputId": "31685b91-cbd8-4769-c9ce-aca5ec2cde09"
      },
      "outputs": [
        {
          "data": {
            "text/html": [
              "<div>\n",
              "<style scoped>\n",
              "    .dataframe tbody tr th:only-of-type {\n",
              "        vertical-align: middle;\n",
              "    }\n",
              "\n",
              "    .dataframe tbody tr th {\n",
              "        vertical-align: top;\n",
              "    }\n",
              "\n",
              "    .dataframe thead th {\n",
              "        text-align: right;\n",
              "    }\n",
              "</style>\n",
              "<table border=\"1\" class=\"dataframe\">\n",
              "  <thead>\n",
              "    <tr style=\"text-align: right;\">\n",
              "      <th></th>\n",
              "      <th>max_depth</th>\n",
              "      <th>min_samples_leaf</th>\n",
              "      <th>train</th>\n",
              "      <th>test</th>\n",
              "    </tr>\n",
              "  </thead>\n",
              "  <tbody>\n",
              "    <tr>\n",
              "      <th>max_depth</th>\n",
              "      <td>1.000000e+00</td>\n",
              "      <td>-2.780775e-16</td>\n",
              "      <td>0.536705</td>\n",
              "      <td>-0.027675</td>\n",
              "    </tr>\n",
              "    <tr>\n",
              "      <th>min_samples_leaf</th>\n",
              "      <td>-2.780775e-16</td>\n",
              "      <td>1.000000e+00</td>\n",
              "      <td>-0.409676</td>\n",
              "      <td>0.349011</td>\n",
              "    </tr>\n",
              "    <tr>\n",
              "      <th>train</th>\n",
              "      <td>5.367048e-01</td>\n",
              "      <td>-4.096762e-01</td>\n",
              "      <td>1.000000</td>\n",
              "      <td>0.116466</td>\n",
              "    </tr>\n",
              "    <tr>\n",
              "      <th>test</th>\n",
              "      <td>-2.767507e-02</td>\n",
              "      <td>3.490111e-01</td>\n",
              "      <td>0.116466</td>\n",
              "      <td>1.000000</td>\n",
              "    </tr>\n",
              "  </tbody>\n",
              "</table>\n",
              "</div>"
            ],
            "text/plain": [
              "                     max_depth  min_samples_leaf     train      test\n",
              "max_depth         1.000000e+00     -2.780775e-16  0.536705 -0.027675\n",
              "min_samples_leaf -2.780775e-16      1.000000e+00 -0.409676  0.349011\n",
              "train             5.367048e-01     -4.096762e-01  1.000000  0.116466\n",
              "test             -2.767507e-02      3.490111e-01  0.116466  1.000000"
            ]
          },
          "execution_count": 74,
          "metadata": {},
          "output_type": "execute_result"
        }
      ],
      "source": [
        "corr = resultados.corr()\n",
        "corr"
      ]
    },
    {
      "cell_type": "code",
      "execution_count": 75,
      "metadata": {
        "colab": {
          "base_uri": "https://localhost:8080/",
          "height": 365
        },
        "colab_type": "code",
        "id": "AdxtFwmZfmck",
        "outputId": "ede38ee9-12de-45f4-b2a1-c1986982a8ce"
      },
      "outputs": [
        {
          "data": {
            "image/png": "[encoded data removed]",
            "text/plain": [
              "<Figure size 640x480 with 2 Axes>"
            ]
          },
          "metadata": {},
          "output_type": "display_data"
        }
      ],
      "source": [
        "ax = sns.heatmap(corr)\n",
        "ax = ax"
      ]
    },
    {
      "cell_type": "code",
      "execution_count": 76,
      "metadata": {
        "colab": {
          "base_uri": "https://localhost:8080/",
          "height": 845
        },
        "colab_type": "code",
        "id": "UWQaVyE-gKHI",
        "outputId": "5d2fefbe-e789-478f-c464-1f564a09ebc6"
      },
      "outputs": [
        {
          "data": {
            "image/png": "[encoded data removed]",
            "text/plain": [
              "<Figure size 1400x800 with 16 Axes>"
            ]
          },
          "metadata": {},
          "output_type": "display_data"
        }
      ],
      "source": [
        "# pd.scatter_matrix(resultados, figsize = (14, 8), alpha = 0.3)\n",
        "ax = pd.plotting.scatter_matrix(resultados, figsize = (14, 8), alpha = 0.3)\n",
        "ax = ax"
      ]
    },
    {
      "cell_type": "code",
      "execution_count": 77,
      "metadata": {
        "colab": {
          "base_uri": "https://localhost:8080/",
          "height": 746
        },
        "colab_type": "code",
        "id": "AcQnhOM3gnJ-",
        "outputId": "87f86d66-792a-4b17-fc84-993c75582a8d"
      },
      "outputs": [
        {
          "data": {
            "image/png": "[encoded data removed]",
            "text/plain": [
              "<Figure size 1000x1000 with 20 Axes>"
            ]
          },
          "metadata": {},
          "output_type": "display_data"
        }
      ],
      "source": [
        "ax = sns.pairplot(resultados)\n",
        "ax = ax"
      ]
    },
    {
      "cell_type": "code",
      "execution_count": 78,
      "metadata": {
        "colab": {
          "base_uri": "https://localhost:8080/",
          "height": 564
        },
        "colab_type": "code",
        "id": "sH5F3Gd8hAFG",
        "outputId": "bc6efbdc-f2f3-4ee5-9b96-6479fd8ad923"
      },
      "outputs": [
        {
          "data": {
            "image/png": "[encoded data removed]",
            "text/plain": [
              "<Figure size 1100x900 with 2 Axes>"
            ]
          },
          "metadata": {},
          "output_type": "display_data"
        }
      ],
      "source": [
        "sns.set(style=\"white\")\n",
        "\n",
        "# Generate a mask for the upper triangle\n",
        "mask = np.zeros_like(corr, dtype=np.bool_)\n",
        "mask[np.triu_indices_from(mask)] = True\n",
        "\n",
        "# Set up the matplotlib figure\n",
        "f, ax = plt.subplots(figsize=(11, 9))\n",
        "\n",
        "# Generate a custom diverging colormap\n",
        "cmap = sns.diverging_palette(220, 10, as_cmap=True)\n",
        "\n",
        "# Draw the heatmap with the mask and correct aspect ratio\n",
        "ax = sns.heatmap(corr, mask=mask, cmap=cmap, vmax=.3, center=0, square=True, linewidths=.5, cbar_kws={\"shrink\": .5}) # type: ignore\n",
        "ax = ax"
      ]
    },
    {
      "cell_type": "code",
      "execution_count": 79,
      "metadata": {
        "colab": {
          "base_uri": "https://localhost:8080/",
          "height": 2346
        },
        "colab_type": "code",
        "id": "fa3AUdNZiBEs",
        "outputId": "ca88efaa-d4e9-4494-85c0-46d404436308"
      },
      "outputs": [
        {
          "name": "stdout",
          "output_type": "stream",
          "text": [
            "Arvore max_depth = 1, min_samples_leaf = 128, treino = 75.79, teste = 75.78\n",
            "Arvore max_depth = 1, min_samples_leaf = 192, treino = 75.79, teste = 75.78\n",
            "Arvore max_depth = 1, min_samples_leaf = 256, treino = 75.79, teste = 75.78\n",
            "Arvore max_depth = 1, min_samples_leaf = 512, treino = 75.79, teste = 75.78\n",
            "Arvore max_depth = 2, min_samples_leaf = 128, treino = 75.79, teste = 75.78\n",
            "Arvore max_depth = 2, min_samples_leaf = 192, treino = 75.79, teste = 75.78\n",
            "Arvore max_depth = 2, min_samples_leaf = 256, treino = 75.79, teste = 75.78\n",
            "Arvore max_depth = 2, min_samples_leaf = 512, treino = 75.79, teste = 75.78\n",
            "Arvore max_depth = 3, min_samples_leaf = 128, treino = 78.75, teste = 78.67\n",
            "Arvore max_depth = 3, min_samples_leaf = 192, treino = 78.75, teste = 78.67\n",
            "Arvore max_depth = 3, min_samples_leaf = 256, treino = 78.75, teste = 78.67\n",
            "Arvore max_depth = 3, min_samples_leaf = 512, treino = 77.53, teste = 77.50\n",
            "Arvore max_depth = 4, min_samples_leaf = 128, treino = 78.75, teste = 78.67\n",
            "Arvore max_depth = 4, min_samples_leaf = 192, treino = 78.75, teste = 78.67\n",
            "Arvore max_depth = 4, min_samples_leaf = 256, treino = 78.75, teste = 78.67\n",
            "Arvore max_depth = 4, min_samples_leaf = 512, treino = 77.53, teste = 77.50\n",
            "Arvore max_depth = 5, min_samples_leaf = 128, treino = 78.77, teste = 78.44\n",
            "Arvore max_depth = 5, min_samples_leaf = 192, treino = 78.77, teste = 78.44\n",
            "Arvore max_depth = 5, min_samples_leaf = 256, treino = 78.77, teste = 78.44\n",
            "Arvore max_depth = 5, min_samples_leaf = 512, treino = 77.53, teste = 77.50\n",
            "Arvore max_depth = 6, min_samples_leaf = 128, treino = 78.85, teste = 78.27\n",
            "Arvore max_depth = 6, min_samples_leaf = 192, treino = 78.79, teste = 78.31\n",
            "Arvore max_depth = 6, min_samples_leaf = 256, treino = 78.79, teste = 78.27\n",
            "Arvore max_depth = 6, min_samples_leaf = 512, treino = 77.53, teste = 77.50\n",
            "Arvore max_depth = 7, min_samples_leaf = 128, treino = 79.01, teste = 78.21\n",
            "Arvore max_depth = 7, min_samples_leaf = 192, treino = 78.92, teste = 78.10\n",
            "Arvore max_depth = 7, min_samples_leaf = 256, treino = 78.85, teste = 78.08\n",
            "Arvore max_depth = 7, min_samples_leaf = 512, treino = 77.53, teste = 77.50\n",
            "Arvore max_depth = 8, min_samples_leaf = 128, treino = 79.05, teste = 78.37\n",
            "Arvore max_depth = 8, min_samples_leaf = 192, treino = 78.98, teste = 78.20\n",
            "Arvore max_depth = 8, min_samples_leaf = 256, treino = 78.89, teste = 77.94\n",
            "Arvore max_depth = 8, min_samples_leaf = 512, treino = 77.53, teste = 77.50\n",
            "Arvore max_depth = 9, min_samples_leaf = 128, treino = 79.12, teste = 78.30\n",
            "Arvore max_depth = 9, min_samples_leaf = 192, treino = 78.99, teste = 78.11\n",
            "Arvore max_depth = 9, min_samples_leaf = 256, treino = 78.90, teste = 77.85\n",
            "Arvore max_depth = 9, min_samples_leaf = 512, treino = 77.53, teste = 77.50\n",
            "Arvore max_depth = 10, min_samples_leaf = 128, treino = 79.16, teste = 78.29\n",
            "Arvore max_depth = 10, min_samples_leaf = 192, treino = 79.01, teste = 78.05\n",
            "Arvore max_depth = 10, min_samples_leaf = 256, treino = 78.90, teste = 77.85\n",
            "Arvore max_depth = 10, min_samples_leaf = 512, treino = 77.53, teste = 77.50\n",
            "Arvore max_depth = 11, min_samples_leaf = 128, treino = 79.19, teste = 78.31\n",
            "Arvore max_depth = 11, min_samples_leaf = 192, treino = 79.01, teste = 78.05\n",
            "Arvore max_depth = 11, min_samples_leaf = 256, treino = 78.90, teste = 77.85\n",
            "Arvore max_depth = 11, min_samples_leaf = 512, treino = 77.53, teste = 77.50\n",
            "Arvore max_depth = 12, min_samples_leaf = 128, treino = 79.21, teste = 78.22\n",
            "Arvore max_depth = 12, min_samples_leaf = 192, treino = 79.01, teste = 78.05\n",
            "Arvore max_depth = 12, min_samples_leaf = 256, treino = 78.90, teste = 77.85\n",
            "Arvore max_depth = 12, min_samples_leaf = 512, treino = 77.53, teste = 77.50\n",
            "Arvore max_depth = 13, min_samples_leaf = 128, treino = 79.21, teste = 78.22\n",
            "Arvore max_depth = 13, min_samples_leaf = 192, treino = 79.01, teste = 78.05\n",
            "Arvore max_depth = 13, min_samples_leaf = 256, treino = 78.90, teste = 77.85\n",
            "Arvore max_depth = 13, min_samples_leaf = 512, treino = 77.53, teste = 77.50\n",
            "Arvore max_depth = 14, min_samples_leaf = 128, treino = 79.21, teste = 78.22\n",
            "Arvore max_depth = 14, min_samples_leaf = 192, treino = 79.01, teste = 78.05\n",
            "Arvore max_depth = 14, min_samples_leaf = 256, treino = 78.90, teste = 77.85\n",
            "Arvore max_depth = 14, min_samples_leaf = 512, treino = 77.53, teste = 77.50\n",
            "Arvore max_depth = 15, min_samples_leaf = 128, treino = 79.21, teste = 78.22\n",
            "Arvore max_depth = 15, min_samples_leaf = 192, treino = 79.01, teste = 78.05\n",
            "Arvore max_depth = 15, min_samples_leaf = 256, treino = 78.90, teste = 77.85\n",
            "Arvore max_depth = 15, min_samples_leaf = 512, treino = 77.53, teste = 77.50\n",
            "Arvore max_depth = 16, min_samples_leaf = 128, treino = 79.21, teste = 78.22\n",
            "Arvore max_depth = 16, min_samples_leaf = 192, treino = 79.01, teste = 78.05\n",
            "Arvore max_depth = 16, min_samples_leaf = 256, treino = 78.90, teste = 77.85\n",
            "Arvore max_depth = 16, min_samples_leaf = 512, treino = 77.53, teste = 77.50\n",
            "Arvore max_depth = 17, min_samples_leaf = 128, treino = 79.21, teste = 78.22\n",
            "Arvore max_depth = 17, min_samples_leaf = 192, treino = 79.01, teste = 78.05\n",
            "Arvore max_depth = 17, min_samples_leaf = 256, treino = 78.90, teste = 77.85\n",
            "Arvore max_depth = 17, min_samples_leaf = 512, treino = 77.53, teste = 77.50\n",
            "Arvore max_depth = 18, min_samples_leaf = 128, treino = 79.21, teste = 78.22\n",
            "Arvore max_depth = 18, min_samples_leaf = 192, treino = 79.01, teste = 78.05\n",
            "Arvore max_depth = 18, min_samples_leaf = 256, treino = 78.90, teste = 77.85\n",
            "Arvore max_depth = 18, min_samples_leaf = 512, treino = 77.53, teste = 77.50\n",
            "Arvore max_depth = 19, min_samples_leaf = 128, treino = 79.21, teste = 78.22\n",
            "Arvore max_depth = 19, min_samples_leaf = 192, treino = 79.01, teste = 78.05\n",
            "Arvore max_depth = 19, min_samples_leaf = 256, treino = 78.90, teste = 77.85\n",
            "Arvore max_depth = 19, min_samples_leaf = 512, treino = 77.53, teste = 77.50\n",
            "Arvore max_depth = 20, min_samples_leaf = 128, treino = 79.21, teste = 78.22\n",
            "Arvore max_depth = 20, min_samples_leaf = 192, treino = 79.01, teste = 78.05\n",
            "Arvore max_depth = 20, min_samples_leaf = 256, treino = 78.90, teste = 77.85\n",
            "Arvore max_depth = 20, min_samples_leaf = 512, treino = 77.53, teste = 77.50\n",
            "Arvore max_depth = 21, min_samples_leaf = 128, treino = 79.21, teste = 78.22\n",
            "Arvore max_depth = 21, min_samples_leaf = 192, treino = 79.01, teste = 78.05\n",
            "Arvore max_depth = 21, min_samples_leaf = 256, treino = 78.90, teste = 77.85\n",
            "Arvore max_depth = 21, min_samples_leaf = 512, treino = 77.53, teste = 77.50\n",
            "Arvore max_depth = 22, min_samples_leaf = 128, treino = 79.21, teste = 78.22\n",
            "Arvore max_depth = 22, min_samples_leaf = 192, treino = 79.01, teste = 78.05\n",
            "Arvore max_depth = 22, min_samples_leaf = 256, treino = 78.90, teste = 77.85\n",
            "Arvore max_depth = 22, min_samples_leaf = 512, treino = 77.53, teste = 77.50\n",
            "Arvore max_depth = 23, min_samples_leaf = 128, treino = 79.21, teste = 78.22\n",
            "Arvore max_depth = 23, min_samples_leaf = 192, treino = 79.01, teste = 78.05\n",
            "Arvore max_depth = 23, min_samples_leaf = 256, treino = 78.90, teste = 77.85\n",
            "Arvore max_depth = 23, min_samples_leaf = 512, treino = 77.53, teste = 77.50\n",
            "Arvore max_depth = 24, min_samples_leaf = 128, treino = 79.21, teste = 78.22\n",
            "Arvore max_depth = 24, min_samples_leaf = 192, treino = 79.01, teste = 78.05\n",
            "Arvore max_depth = 24, min_samples_leaf = 256, treino = 78.90, teste = 77.85\n",
            "Arvore max_depth = 24, min_samples_leaf = 512, treino = 77.53, teste = 77.50\n",
            "Arvore max_depth = 25, min_samples_leaf = 128, treino = 79.21, teste = 78.22\n",
            "Arvore max_depth = 25, min_samples_leaf = 192, treino = 79.01, teste = 78.05\n",
            "Arvore max_depth = 25, min_samples_leaf = 256, treino = 78.90, teste = 77.85\n",
            "Arvore max_depth = 25, min_samples_leaf = 512, treino = 77.53, teste = 77.50\n",
            "Arvore max_depth = 26, min_samples_leaf = 128, treino = 79.21, teste = 78.22\n",
            "Arvore max_depth = 26, min_samples_leaf = 192, treino = 79.01, teste = 78.05\n",
            "Arvore max_depth = 26, min_samples_leaf = 256, treino = 78.90, teste = 77.85\n",
            "Arvore max_depth = 26, min_samples_leaf = 512, treino = 77.53, teste = 77.50\n",
            "Arvore max_depth = 27, min_samples_leaf = 128, treino = 79.21, teste = 78.22\n",
            "Arvore max_depth = 27, min_samples_leaf = 192, treino = 79.01, teste = 78.05\n",
            "Arvore max_depth = 27, min_samples_leaf = 256, treino = 78.90, teste = 77.85\n",
            "Arvore max_depth = 27, min_samples_leaf = 512, treino = 77.53, teste = 77.50\n",
            "Arvore max_depth = 28, min_samples_leaf = 128, treino = 79.21, teste = 78.22\n",
            "Arvore max_depth = 28, min_samples_leaf = 192, treino = 79.01, teste = 78.05\n",
            "Arvore max_depth = 28, min_samples_leaf = 256, treino = 78.90, teste = 77.85\n",
            "Arvore max_depth = 28, min_samples_leaf = 512, treino = 77.53, teste = 77.50\n",
            "Arvore max_depth = 29, min_samples_leaf = 128, treino = 79.21, teste = 78.22\n",
            "Arvore max_depth = 29, min_samples_leaf = 192, treino = 79.01, teste = 78.05\n",
            "Arvore max_depth = 29, min_samples_leaf = 256, treino = 78.90, teste = 77.85\n",
            "Arvore max_depth = 29, min_samples_leaf = 512, treino = 77.53, teste = 77.50\n",
            "Arvore max_depth = 30, min_samples_leaf = 128, treino = 79.21, teste = 78.22\n",
            "Arvore max_depth = 30, min_samples_leaf = 192, treino = 79.01, teste = 78.05\n",
            "Arvore max_depth = 30, min_samples_leaf = 256, treino = 78.90, teste = 77.85\n",
            "Arvore max_depth = 30, min_samples_leaf = 512, treino = 77.53, teste = 77.50\n",
            "Arvore max_depth = 31, min_samples_leaf = 128, treino = 79.21, teste = 78.22\n",
            "Arvore max_depth = 31, min_samples_leaf = 192, treino = 79.01, teste = 78.05\n",
            "Arvore max_depth = 31, min_samples_leaf = 256, treino = 78.90, teste = 77.85\n",
            "Arvore max_depth = 31, min_samples_leaf = 512, treino = 77.53, teste = 77.50\n",
            "Arvore max_depth = 32, min_samples_leaf = 128, treino = 79.21, teste = 78.22\n",
            "Arvore max_depth = 32, min_samples_leaf = 192, treino = 79.01, teste = 78.05\n",
            "Arvore max_depth = 32, min_samples_leaf = 256, treino = 78.90, teste = 77.85\n",
            "Arvore max_depth = 32, min_samples_leaf = 512, treino = 77.53, teste = 77.50\n"
          ]
        },
        {
          "data": {
            "text/html": [
              "<div>\n",
              "<style scoped>\n",
              "    .dataframe tbody tr th:only-of-type {\n",
              "        vertical-align: middle;\n",
              "    }\n",
              "\n",
              "    .dataframe tbody tr th {\n",
              "        vertical-align: top;\n",
              "    }\n",
              "\n",
              "    .dataframe thead th {\n",
              "        text-align: right;\n",
              "    }\n",
              "</style>\n",
              "<table border=\"1\" class=\"dataframe\">\n",
              "  <thead>\n",
              "    <tr style=\"text-align: right;\">\n",
              "      <th></th>\n",
              "      <th>max_depth</th>\n",
              "      <th>min_samples_leaf</th>\n",
              "      <th>train</th>\n",
              "      <th>test</th>\n",
              "    </tr>\n",
              "  </thead>\n",
              "  <tbody>\n",
              "    <tr>\n",
              "      <th>0</th>\n",
              "      <td>1</td>\n",
              "      <td>128</td>\n",
              "      <td>75.791169</td>\n",
              "      <td>75.784219</td>\n",
              "    </tr>\n",
              "    <tr>\n",
              "      <th>1</th>\n",
              "      <td>1</td>\n",
              "      <td>192</td>\n",
              "      <td>75.791169</td>\n",
              "      <td>75.784219</td>\n",
              "    </tr>\n",
              "    <tr>\n",
              "      <th>2</th>\n",
              "      <td>1</td>\n",
              "      <td>256</td>\n",
              "      <td>75.791169</td>\n",
              "      <td>75.784219</td>\n",
              "    </tr>\n",
              "    <tr>\n",
              "      <th>3</th>\n",
              "      <td>1</td>\n",
              "      <td>512</td>\n",
              "      <td>75.791169</td>\n",
              "      <td>75.784219</td>\n",
              "    </tr>\n",
              "    <tr>\n",
              "      <th>4</th>\n",
              "      <td>2</td>\n",
              "      <td>128</td>\n",
              "      <td>75.791169</td>\n",
              "      <td>75.784219</td>\n",
              "    </tr>\n",
              "  </tbody>\n",
              "</table>\n",
              "</div>"
            ],
            "text/plain": [
              "   max_depth  min_samples_leaf      train       test\n",
              "0          1               128  75.791169  75.784219\n",
              "1          1               192  75.791169  75.784219\n",
              "2          1               256  75.791169  75.784219\n",
              "3          1               512  75.791169  75.784219\n",
              "4          2               128  75.791169  75.784219"
            ]
          },
          "execution_count": 79,
          "metadata": {},
          "output_type": "execute_result"
        }
      ],
      "source": [
        "def busca():\n",
        "  resultados = []\n",
        "  for max_depth in range(1,33):\n",
        "    for min_samples_leaf in [128, 192, 256, 512]:\n",
        "      tabela = roda_arvore_de_decisao(max_depth, min_samples_leaf)\n",
        "      resultados.append(tabela)\n",
        "  resultados = pd.DataFrame(resultados, columns= [\"max_depth\",\"min_samples_leaf\",\"train\",\"test\"])\n",
        "  return resultados\n",
        "\n",
        "resultados = busca()\n",
        "resultados.head()"
      ]
    },
    {
      "cell_type": "code",
      "execution_count": 80,
      "metadata": {},
      "outputs": [
        {
          "data": {
            "text/plain": [
              "<matplotlib.legend.Legend at 0x251968fddd0>"
            ]
          },
          "execution_count": 80,
          "metadata": {},
          "output_type": "execute_result"
        },
        {
          "data": {
            "image/png": "[encoded data removed]",
            "text/plain": [
              "<Figure size 640x480 with 1 Axes>"
            ]
          },
          "metadata": {},
          "output_type": "display_data"
        }
      ],
      "source": [
        "sns.lineplot(x = \"max_depth\", y = \"train\", data = resultados)\n",
        "sns.lineplot(x = \"max_depth\", y = \"test\", data = resultados)\n",
        "plt.legend([\"Treino\", \"Teste\"])"
      ]
    },
    {
      "cell_type": "code",
      "execution_count": 81,
      "metadata": {
        "colab": {},
        "colab_type": "code",
        "id": "GLMt71GYii3A"
      },
      "outputs": [],
      "source": [
        "corr = resultados.corr()"
      ]
    },
    {
      "cell_type": "code",
      "execution_count": 82,
      "metadata": {
        "colab": {
          "base_uri": "https://localhost:8080/",
          "height": 564
        },
        "colab_type": "code",
        "id": "3XjB5-HyinEM",
        "outputId": "9a52e183-ddad-426a-c25f-894f9fa421df"
      },
      "outputs": [
        {
          "data": {
            "image/png": "[encoded data removed]",
            "text/plain": [
              "<Figure size 1100x900 with 2 Axes>"
            ]
          },
          "metadata": {},
          "output_type": "display_data"
        }
      ],
      "source": [
        "sns.set(style=\"white\")\n",
        "\n",
        "# Generate a mask for the upper triangle\n",
        "mask = np.zeros_like(corr, dtype=np.bool_)\n",
        "mask[np.triu_indices_from(mask)] = True\n",
        "\n",
        "# Set up the matplotlib figure\n",
        "f, ax = plt.subplots(figsize=(11, 9))\n",
        "\n",
        "# Generate a custom diverging colormap\n",
        "cmap = sns.diverging_palette(220, 10, as_cmap=True)\n",
        "\n",
        "# Draw the heatmap with the mask and correct aspect ratio\n",
        "ax = sns.heatmap(corr, mask=mask, cmap=cmap, vmax=.3, center=0, square=True, linewidths=.5, cbar_kws={\"shrink\": .5}) # type: ignore\n",
        "ax = ax"
      ]
    },
    {
      "cell_type": "code",
      "execution_count": 83,
      "metadata": {
        "colab": {
          "base_uri": "https://localhost:8080/",
          "height": 195
        },
        "colab_type": "code",
        "id": "7_yHHDkEiqCC",
        "outputId": "5569f2aa-acf9-4a40-89f0-45e56ed70a21"
      },
      "outputs": [
        {
          "data": {
            "text/html": [
              "<div>\n",
              "<style scoped>\n",
              "    .dataframe tbody tr th:only-of-type {\n",
              "        vertical-align: middle;\n",
              "    }\n",
              "\n",
              "    .dataframe tbody tr th {\n",
              "        vertical-align: top;\n",
              "    }\n",
              "\n",
              "    .dataframe thead th {\n",
              "        text-align: right;\n",
              "    }\n",
              "</style>\n",
              "<table border=\"1\" class=\"dataframe\">\n",
              "  <thead>\n",
              "    <tr style=\"text-align: right;\">\n",
              "      <th></th>\n",
              "      <th>max_depth</th>\n",
              "      <th>min_samples_leaf</th>\n",
              "      <th>train</th>\n",
              "      <th>test</th>\n",
              "    </tr>\n",
              "  </thead>\n",
              "  <tbody>\n",
              "    <tr>\n",
              "      <th>13</th>\n",
              "      <td>4</td>\n",
              "      <td>192</td>\n",
              "      <td>78.750993</td>\n",
              "      <td>78.672633</td>\n",
              "    </tr>\n",
              "    <tr>\n",
              "      <th>8</th>\n",
              "      <td>3</td>\n",
              "      <td>128</td>\n",
              "      <td>78.750993</td>\n",
              "      <td>78.672633</td>\n",
              "    </tr>\n",
              "    <tr>\n",
              "      <th>9</th>\n",
              "      <td>3</td>\n",
              "      <td>192</td>\n",
              "      <td>78.750993</td>\n",
              "      <td>78.672633</td>\n",
              "    </tr>\n",
              "    <tr>\n",
              "      <th>10</th>\n",
              "      <td>3</td>\n",
              "      <td>256</td>\n",
              "      <td>78.750993</td>\n",
              "      <td>78.672633</td>\n",
              "    </tr>\n",
              "    <tr>\n",
              "      <th>14</th>\n",
              "      <td>4</td>\n",
              "      <td>256</td>\n",
              "      <td>78.750993</td>\n",
              "      <td>78.672633</td>\n",
              "    </tr>\n",
              "  </tbody>\n",
              "</table>\n",
              "</div>"
            ],
            "text/plain": [
              "    max_depth  min_samples_leaf      train       test\n",
              "13          4               192  78.750993  78.672633\n",
              "8           3               128  78.750993  78.672633\n",
              "9           3               192  78.750993  78.672633\n",
              "10          3               256  78.750993  78.672633\n",
              "14          4               256  78.750993  78.672633"
            ]
          },
          "execution_count": 83,
          "metadata": {},
          "output_type": "execute_result"
        }
      ],
      "source": [
        "resultados.sort_values(\"test\", ascending=False).head()"
      ]
    },
    {
      "cell_type": "markdown",
      "metadata": {
        "colab_type": "text",
        "id": "pwwC1wHakOvC"
      },
      "source": [
        "# Explorando 3 dimensões de hiper parâmetros"
      ]
    },
    {
      "cell_type": "code",
      "execution_count": 84,
      "metadata": {
        "colab": {
          "base_uri": "https://localhost:8080/",
          "height": 195
        },
        "colab_type": "code",
        "id": "jlCg0np0kSsa",
        "outputId": "c4b1c47c-ba31-49a3-a68f-40804b2df126"
      },
      "outputs": [
        {
          "data": {
            "text/html": [
              "<div>\n",
              "<style scoped>\n",
              "    .dataframe tbody tr th:only-of-type {\n",
              "        vertical-align: middle;\n",
              "    }\n",
              "\n",
              "    .dataframe tbody tr th {\n",
              "        vertical-align: top;\n",
              "    }\n",
              "\n",
              "    .dataframe thead th {\n",
              "        text-align: right;\n",
              "    }\n",
              "</style>\n",
              "<table border=\"1\" class=\"dataframe\">\n",
              "  <thead>\n",
              "    <tr style=\"text-align: right;\">\n",
              "      <th></th>\n",
              "      <th>max_depth</th>\n",
              "      <th>min_samples_leaf</th>\n",
              "      <th>min_samples_split</th>\n",
              "      <th>train</th>\n",
              "      <th>test</th>\n",
              "      <th>fit_time</th>\n",
              "      <th>score_time</th>\n",
              "    </tr>\n",
              "  </thead>\n",
              "  <tbody>\n",
              "    <tr>\n",
              "      <th>0</th>\n",
              "      <td>1</td>\n",
              "      <td>32</td>\n",
              "      <td>32</td>\n",
              "      <td>75.791169</td>\n",
              "      <td>75.784219</td>\n",
              "      <td>0.009213</td>\n",
              "      <td>0.004524</td>\n",
              "    </tr>\n",
              "    <tr>\n",
              "      <th>1</th>\n",
              "      <td>1</td>\n",
              "      <td>32</td>\n",
              "      <td>64</td>\n",
              "      <td>75.791169</td>\n",
              "      <td>75.784219</td>\n",
              "      <td>0.008528</td>\n",
              "      <td>0.003691</td>\n",
              "    </tr>\n",
              "    <tr>\n",
              "      <th>2</th>\n",
              "      <td>1</td>\n",
              "      <td>32</td>\n",
              "      <td>128</td>\n",
              "      <td>75.791169</td>\n",
              "      <td>75.784219</td>\n",
              "      <td>0.007800</td>\n",
              "      <td>0.002617</td>\n",
              "    </tr>\n",
              "    <tr>\n",
              "      <th>3</th>\n",
              "      <td>1</td>\n",
              "      <td>32</td>\n",
              "      <td>256</td>\n",
              "      <td>75.791169</td>\n",
              "      <td>75.784219</td>\n",
              "      <td>0.007672</td>\n",
              "      <td>0.003002</td>\n",
              "    </tr>\n",
              "    <tr>\n",
              "      <th>4</th>\n",
              "      <td>1</td>\n",
              "      <td>64</td>\n",
              "      <td>32</td>\n",
              "      <td>75.791169</td>\n",
              "      <td>75.784219</td>\n",
              "      <td>0.007901</td>\n",
              "      <td>0.002659</td>\n",
              "    </tr>\n",
              "  </tbody>\n",
              "</table>\n",
              "</div>"
            ],
            "text/plain": [
              "   max_depth  min_samples_leaf  min_samples_split      train       test   \n",
              "0          1                32                 32  75.791169  75.784219  \\\n",
              "1          1                32                 64  75.791169  75.784219   \n",
              "2          1                32                128  75.791169  75.784219   \n",
              "3          1                32                256  75.791169  75.784219   \n",
              "4          1                64                 32  75.791169  75.784219   \n",
              "\n",
              "   fit_time  score_time  \n",
              "0  0.009213    0.004524  \n",
              "1  0.008528    0.003691  \n",
              "2  0.007800    0.002617  \n",
              "3  0.007672    0.003002  \n",
              "4  0.007901    0.002659  "
            ]
          },
          "execution_count": 84,
          "metadata": {},
          "output_type": "execute_result"
        }
      ],
      "source": [
        "def roda_arvore_de_decisao(max_depth, min_samples_leaf, min_samples_split):\n",
        "  SEED = 301\n",
        "  np.random.seed(SEED)\n",
        "\n",
        "  cv = GroupKFold(n_splits = 10)\n",
        "  modelo = DecisionTreeClassifier(max_depth=max_depth, min_samples_leaf = min_samples_leaf, min_samples_split = min_samples_split)\n",
        "  results = cross_validate(modelo, x_azar, y_azar, cv = cv, groups = dados.modelo, return_train_score=True)\n",
        "  fit_time = results['fit_time'].mean()\n",
        "  score_time = results['score_time'].mean()\n",
        "  train_score = results['train_score'].mean() * 100\n",
        "  test_score = results['test_score'].mean() * 100\n",
        "  tabela = [max_depth, min_samples_leaf, min_samples_split, train_score, test_score, fit_time, score_time]\n",
        "  return tabela\n",
        "\n",
        "def busca():\n",
        "  resultados = []\n",
        "  for max_depth in range(1,33):\n",
        "    for min_samples_leaf in [32, 64, 128, 256]:\n",
        "      for min_samples_split in [32, 64, 128, 256]:\n",
        "        tabela = roda_arvore_de_decisao(max_depth, min_samples_leaf, min_samples_split)\n",
        "        resultados.append(tabela)\n",
        "  resultados = pd.DataFrame(resultados, columns= [\"max_depth\",\"min_samples_leaf\",\"min_samples_split\",\"train\",\"test\", \"fit_time\", \"score_time\"])\n",
        "  return resultados\n",
        "\n",
        "resultados = busca()\n",
        "resultados.head()"
      ]
    },
    {
      "cell_type": "code",
      "execution_count": 85,
      "metadata": {
        "colab": {},
        "colab_type": "code",
        "id": "vUmCKerTkqdS"
      },
      "outputs": [],
      "source": [
        "corr = resultados.corr()"
      ]
    },
    {
      "cell_type": "code",
      "execution_count": 86,
      "metadata": {
        "colab": {
          "base_uri": "https://localhost:8080/",
          "height": 654
        },
        "colab_type": "code",
        "id": "a7d6zbMglbBJ",
        "outputId": "63e661b9-79da-4a7f-f13f-b3b2a8d110ee"
      },
      "outputs": [
        {
          "data": {
            "image/png": "[encoded data removed]",
            "text/plain": [
              "<Figure size 1100x900 with 2 Axes>"
            ]
          },
          "metadata": {},
          "output_type": "display_data"
        }
      ],
      "source": [
        "sns.set(style=\"white\")\n",
        "\n",
        "# Generate a mask for the upper triangle\n",
        "mask = np.zeros_like(corr, dtype=np.bool_)\n",
        "mask[np.triu_indices_from(mask)] = True\n",
        "\n",
        "# Set up the matplotlib figure\n",
        "f, ax = plt.subplots(figsize=(11, 9))\n",
        "\n",
        "# Generate a custom diverging colormap\n",
        "cmap = sns.diverging_palette(220, 10, as_cmap=True)\n",
        "\n",
        "# Draw the heatmap with the mask and correct aspect ratio\n",
        "ax = sns.heatmap(corr, mask=mask, cmap=cmap, vmax=.3, center=0, square=True, linewidths=.5, cbar_kws={\"shrink\": .5}) # type: ignore\n",
        "ax = ax"
      ]
    },
    {
      "cell_type": "code",
      "execution_count": 87,
      "metadata": {
        "colab": {
          "base_uri": "https://localhost:8080/",
          "height": 195
        },
        "colab_type": "code",
        "id": "YY5vVBEGlctR",
        "outputId": "855cdcbd-8951-4c90-f307-d35fac841790"
      },
      "outputs": [
        {
          "data": {
            "text/html": [
              "<div>\n",
              "<style scoped>\n",
              "    .dataframe tbody tr th:only-of-type {\n",
              "        vertical-align: middle;\n",
              "    }\n",
              "\n",
              "    .dataframe tbody tr th {\n",
              "        vertical-align: top;\n",
              "    }\n",
              "\n",
              "    .dataframe thead th {\n",
              "        text-align: right;\n",
              "    }\n",
              "</style>\n",
              "<table border=\"1\" class=\"dataframe\">\n",
              "  <thead>\n",
              "    <tr style=\"text-align: right;\">\n",
              "      <th></th>\n",
              "      <th>max_depth</th>\n",
              "      <th>min_samples_leaf</th>\n",
              "      <th>min_samples_split</th>\n",
              "      <th>train</th>\n",
              "      <th>test</th>\n",
              "      <th>fit_time</th>\n",
              "      <th>score_time</th>\n",
              "    </tr>\n",
              "  </thead>\n",
              "  <tbody>\n",
              "    <tr>\n",
              "      <th>63</th>\n",
              "      <td>4</td>\n",
              "      <td>256</td>\n",
              "      <td>256</td>\n",
              "      <td>78.750993</td>\n",
              "      <td>78.672633</td>\n",
              "      <td>0.017930</td>\n",
              "      <td>0.002573</td>\n",
              "    </tr>\n",
              "    <tr>\n",
              "      <th>48</th>\n",
              "      <td>4</td>\n",
              "      <td>32</td>\n",
              "      <td>32</td>\n",
              "      <td>78.750993</td>\n",
              "      <td>78.672633</td>\n",
              "      <td>0.028397</td>\n",
              "      <td>0.003313</td>\n",
              "    </tr>\n",
              "    <tr>\n",
              "      <th>34</th>\n",
              "      <td>3</td>\n",
              "      <td>32</td>\n",
              "      <td>128</td>\n",
              "      <td>78.750993</td>\n",
              "      <td>78.672633</td>\n",
              "      <td>0.015609</td>\n",
              "      <td>0.003827</td>\n",
              "    </tr>\n",
              "    <tr>\n",
              "      <th>35</th>\n",
              "      <td>3</td>\n",
              "      <td>32</td>\n",
              "      <td>256</td>\n",
              "      <td>78.750993</td>\n",
              "      <td>78.672633</td>\n",
              "      <td>0.016104</td>\n",
              "      <td>0.002691</td>\n",
              "    </tr>\n",
              "    <tr>\n",
              "      <th>36</th>\n",
              "      <td>3</td>\n",
              "      <td>64</td>\n",
              "      <td>32</td>\n",
              "      <td>78.750993</td>\n",
              "      <td>78.672633</td>\n",
              "      <td>0.031323</td>\n",
              "      <td>0.004986</td>\n",
              "    </tr>\n",
              "  </tbody>\n",
              "</table>\n",
              "</div>"
            ],
            "text/plain": [
              "    max_depth  min_samples_leaf  min_samples_split      train       test   \n",
              "63          4               256                256  78.750993  78.672633  \\\n",
              "48          4                32                 32  78.750993  78.672633   \n",
              "34          3                32                128  78.750993  78.672633   \n",
              "35          3                32                256  78.750993  78.672633   \n",
              "36          3                64                 32  78.750993  78.672633   \n",
              "\n",
              "    fit_time  score_time  \n",
              "63  0.017930    0.002573  \n",
              "48  0.028397    0.003313  \n",
              "34  0.015609    0.003827  \n",
              "35  0.016104    0.002691  \n",
              "36  0.031323    0.004986  "
            ]
          },
          "execution_count": 87,
          "metadata": {},
          "output_type": "execute_result"
        }
      ],
      "source": [
        "resultados.sort_values(\"test\", ascending=False).head()"
      ]
    },
    {
      "cell_type": "markdown",
      "metadata": {
        "colab_type": "text",
        "id": "at5ydyJOqQMv"
      },
      "source": [
        "# Explorando espaço de hiper parâmetros com GridSearchCV"
      ]
    },
    {
      "cell_type": "code",
      "execution_count": 88,
      "metadata": {
        "colab": {
          "base_uri": "https://localhost:8080/",
          "height": 983
        },
        "colab_type": "code",
        "id": "Zb69KkJwljln",
        "outputId": "5a5b77b6-5659-43de-d7ef-6c0b1bcbe64f"
      },
      "outputs": [
        {
          "data": {
            "text/html": [
              "<div>\n",
              "<style scoped>\n",
              "    .dataframe tbody tr th:only-of-type {\n",
              "        vertical-align: middle;\n",
              "    }\n",
              "\n",
              "    .dataframe tbody tr th {\n",
              "        vertical-align: top;\n",
              "    }\n",
              "\n",
              "    .dataframe thead th {\n",
              "        text-align: right;\n",
              "    }\n",
              "</style>\n",
              "<table border=\"1\" class=\"dataframe\">\n",
              "  <thead>\n",
              "    <tr style=\"text-align: right;\">\n",
              "      <th></th>\n",
              "      <th>mean_fit_time</th>\n",
              "      <th>std_fit_time</th>\n",
              "      <th>mean_score_time</th>\n",
              "      <th>std_score_time</th>\n",
              "      <th>param_criterion</th>\n",
              "      <th>param_max_depth</th>\n",
              "      <th>param_min_samples_leaf</th>\n",
              "      <th>param_min_samples_split</th>\n",
              "      <th>params</th>\n",
              "      <th>split0_test_score</th>\n",
              "      <th>...</th>\n",
              "      <th>split3_test_score</th>\n",
              "      <th>split4_test_score</th>\n",
              "      <th>split5_test_score</th>\n",
              "      <th>split6_test_score</th>\n",
              "      <th>split7_test_score</th>\n",
              "      <th>split8_test_score</th>\n",
              "      <th>split9_test_score</th>\n",
              "      <th>mean_test_score</th>\n",
              "      <th>std_test_score</th>\n",
              "      <th>rank_test_score</th>\n",
              "    </tr>\n",
              "  </thead>\n",
              "  <tbody>\n",
              "    <tr>\n",
              "      <th>0</th>\n",
              "      <td>0.016951</td>\n",
              "      <td>0.003916</td>\n",
              "      <td>0.003801</td>\n",
              "      <td>0.001538</td>\n",
              "      <td>gini</td>\n",
              "      <td>3</td>\n",
              "      <td>32</td>\n",
              "      <td>32</td>\n",
              "      <td>{'criterion': 'gini', 'max_depth': 3, 'min_sam...</td>\n",
              "      <td>0.804757</td>\n",
              "      <td>...</td>\n",
              "      <td>0.78408</td>\n",
              "      <td>0.783181</td>\n",
              "      <td>0.797809</td>\n",
              "      <td>0.762866</td>\n",
              "      <td>0.781818</td>\n",
              "      <td>0.77551</td>\n",
              "      <td>0.790262</td>\n",
              "      <td>0.786726</td>\n",
              "      <td>0.011361</td>\n",
              "      <td>1</td>\n",
              "    </tr>\n",
              "    <tr>\n",
              "      <th>1</th>\n",
              "      <td>0.016196</td>\n",
              "      <td>0.001924</td>\n",
              "      <td>0.003615</td>\n",
              "      <td>0.001432</td>\n",
              "      <td>gini</td>\n",
              "      <td>3</td>\n",
              "      <td>32</td>\n",
              "      <td>64</td>\n",
              "      <td>{'criterion': 'gini', 'max_depth': 3, 'min_sam...</td>\n",
              "      <td>0.804757</td>\n",
              "      <td>...</td>\n",
              "      <td>0.78408</td>\n",
              "      <td>0.783181</td>\n",
              "      <td>0.797809</td>\n",
              "      <td>0.762866</td>\n",
              "      <td>0.781818</td>\n",
              "      <td>0.77551</td>\n",
              "      <td>0.790262</td>\n",
              "      <td>0.786726</td>\n",
              "      <td>0.011361</td>\n",
              "      <td>1</td>\n",
              "    </tr>\n",
              "    <tr>\n",
              "      <th>2</th>\n",
              "      <td>0.015412</td>\n",
              "      <td>0.001596</td>\n",
              "      <td>0.003105</td>\n",
              "      <td>0.000939</td>\n",
              "      <td>gini</td>\n",
              "      <td>3</td>\n",
              "      <td>32</td>\n",
              "      <td>128</td>\n",
              "      <td>{'criterion': 'gini', 'max_depth': 3, 'min_sam...</td>\n",
              "      <td>0.804757</td>\n",
              "      <td>...</td>\n",
              "      <td>0.78408</td>\n",
              "      <td>0.783181</td>\n",
              "      <td>0.797809</td>\n",
              "      <td>0.762866</td>\n",
              "      <td>0.781818</td>\n",
              "      <td>0.77551</td>\n",
              "      <td>0.790262</td>\n",
              "      <td>0.786726</td>\n",
              "      <td>0.011361</td>\n",
              "      <td>1</td>\n",
              "    </tr>\n",
              "    <tr>\n",
              "      <th>3</th>\n",
              "      <td>0.014230</td>\n",
              "      <td>0.000491</td>\n",
              "      <td>0.002358</td>\n",
              "      <td>0.000462</td>\n",
              "      <td>gini</td>\n",
              "      <td>3</td>\n",
              "      <td>64</td>\n",
              "      <td>32</td>\n",
              "      <td>{'criterion': 'gini', 'max_depth': 3, 'min_sam...</td>\n",
              "      <td>0.804757</td>\n",
              "      <td>...</td>\n",
              "      <td>0.78408</td>\n",
              "      <td>0.783181</td>\n",
              "      <td>0.797809</td>\n",
              "      <td>0.762866</td>\n",
              "      <td>0.781818</td>\n",
              "      <td>0.77551</td>\n",
              "      <td>0.790262</td>\n",
              "      <td>0.786726</td>\n",
              "      <td>0.011361</td>\n",
              "      <td>1</td>\n",
              "    </tr>\n",
              "    <tr>\n",
              "      <th>4</th>\n",
              "      <td>0.014364</td>\n",
              "      <td>0.000759</td>\n",
              "      <td>0.002928</td>\n",
              "      <td>0.000707</td>\n",
              "      <td>gini</td>\n",
              "      <td>3</td>\n",
              "      <td>64</td>\n",
              "      <td>64</td>\n",
              "      <td>{'criterion': 'gini', 'max_depth': 3, 'min_sam...</td>\n",
              "      <td>0.804757</td>\n",
              "      <td>...</td>\n",
              "      <td>0.78408</td>\n",
              "      <td>0.783181</td>\n",
              "      <td>0.797809</td>\n",
              "      <td>0.762866</td>\n",
              "      <td>0.781818</td>\n",
              "      <td>0.77551</td>\n",
              "      <td>0.790262</td>\n",
              "      <td>0.786726</td>\n",
              "      <td>0.011361</td>\n",
              "      <td>1</td>\n",
              "    </tr>\n",
              "  </tbody>\n",
              "</table>\n",
              "<p>5 rows × 22 columns</p>\n",
              "</div>"
            ],
            "text/plain": [
              "   mean_fit_time  std_fit_time  mean_score_time  std_score_time   \n",
              "0       0.016951      0.003916         0.003801        0.001538  \\\n",
              "1       0.016196      0.001924         0.003615        0.001432   \n",
              "2       0.015412      0.001596         0.003105        0.000939   \n",
              "3       0.014230      0.000491         0.002358        0.000462   \n",
              "4       0.014364      0.000759         0.002928        0.000707   \n",
              "\n",
              "  param_criterion param_max_depth param_min_samples_leaf   \n",
              "0            gini               3                     32  \\\n",
              "1            gini               3                     32   \n",
              "2            gini               3                     32   \n",
              "3            gini               3                     64   \n",
              "4            gini               3                     64   \n",
              "\n",
              "  param_min_samples_split                                             params   \n",
              "0                      32  {'criterion': 'gini', 'max_depth': 3, 'min_sam...  \\\n",
              "1                      64  {'criterion': 'gini', 'max_depth': 3, 'min_sam...   \n",
              "2                     128  {'criterion': 'gini', 'max_depth': 3, 'min_sam...   \n",
              "3                      32  {'criterion': 'gini', 'max_depth': 3, 'min_sam...   \n",
              "4                      64  {'criterion': 'gini', 'max_depth': 3, 'min_sam...   \n",
              "\n",
              "   split0_test_score  ...  split3_test_score  split4_test_score   \n",
              "0           0.804757  ...            0.78408           0.783181  \\\n",
              "1           0.804757  ...            0.78408           0.783181   \n",
              "2           0.804757  ...            0.78408           0.783181   \n",
              "3           0.804757  ...            0.78408           0.783181   \n",
              "4           0.804757  ...            0.78408           0.783181   \n",
              "\n",
              "   split5_test_score  split6_test_score  split7_test_score  split8_test_score   \n",
              "0           0.797809           0.762866           0.781818            0.77551  \\\n",
              "1           0.797809           0.762866           0.781818            0.77551   \n",
              "2           0.797809           0.762866           0.781818            0.77551   \n",
              "3           0.797809           0.762866           0.781818            0.77551   \n",
              "4           0.797809           0.762866           0.781818            0.77551   \n",
              "\n",
              "   split9_test_score  mean_test_score  std_test_score  rank_test_score  \n",
              "0           0.790262         0.786726        0.011361                1  \n",
              "1           0.790262         0.786726        0.011361                1  \n",
              "2           0.790262         0.786726        0.011361                1  \n",
              "3           0.790262         0.786726        0.011361                1  \n",
              "4           0.790262         0.786726        0.011361                1  \n",
              "\n",
              "[5 rows x 22 columns]"
            ]
          },
          "execution_count": 88,
          "metadata": {},
          "output_type": "execute_result"
        }
      ],
      "source": [
        "from sklearn.model_selection import GridSearchCV\n",
        "\n",
        "SEED=301\n",
        "np.random.seed(SEED)\n",
        "\n",
        "espaco_de_parametros = {\n",
        "    \"max_depth\" : [3, 5],\n",
        "    \"min_samples_split\" : [32, 64, 128],\n",
        "    \"min_samples_leaf\" : [32, 64, 128],\n",
        "    \"criterion\" : [\"gini\", \"entropy\"]\n",
        "}\n",
        "\n",
        "busca = GridSearchCV(DecisionTreeClassifier(), espaco_de_parametros, cv = GroupKFold(n_splits = 10))\n",
        "busca.fit(x_azar, y_azar, groups = dados.modelo)\n",
        "resultados = pd.DataFrame(busca.cv_results_)\n",
        "resultados.head()"
      ]
    },
    {
      "cell_type": "code",
      "execution_count": 89,
      "metadata": {
        "colab": {
          "base_uri": "https://localhost:8080/",
          "height": 50
        },
        "colab_type": "code",
        "id": "xGEqRLcUrMuF",
        "outputId": "ada074b6-eedf-40eb-bc35-9af10deba1ea"
      },
      "outputs": [
        {
          "name": "stdout",
          "output_type": "stream",
          "text": [
            "{'criterion': 'gini', 'max_depth': 3, 'min_samples_leaf': 32, 'min_samples_split': 32}\n",
            "78.67263337284332\n"
          ]
        }
      ],
      "source": [
        "print(busca.best_params_)\n",
        "print(busca.best_score_ * 100)"
      ]
    },
    {
      "cell_type": "code",
      "execution_count": 90,
      "metadata": {
        "colab": {
          "base_uri": "https://localhost:8080/",
          "height": 118
        },
        "colab_type": "code",
        "id": "EcXir723rbI5",
        "outputId": "46abd9f6-d8f6-4883-f730-478f8a116f6f"
      },
      "outputs": [
        {
          "data": {
            "text/html": [
              "<style>#sk-container-id-2 {color: black;background-color: white;}#sk-container-id-2 pre{padding: 0;}#sk-container-id-2 div.sk-toggleable {background-color: white;}#sk-container-id-2 label.sk-toggleable__label {cursor: pointer;display: block;width: 100%;margin-bottom: 0;padding: 0.3em;box-sizing: border-box;text-align: center;}#sk-container-id-2 label.sk-toggleable__label-arrow:before {content: \"▸\";float: left;margin-right: 0.25em;color: #696969;}#sk-container-id-2 label.sk-toggleable__label-arrow:hover:before {color: black;}#sk-container-id-2 div.sk-estimator:hover label.sk-toggleable__label-arrow:before {color: black;}#sk-container-id-2 div.sk-toggleable__content {max-height: 0;max-width: 0;overflow: hidden;text-align: left;background-color: #f0f8ff;}#sk-container-id-2 div.sk-toggleable__content pre {margin: 0.2em;color: black;border-radius: 0.25em;background-color: #f0f8ff;}#sk-container-id-2 input.sk-toggleable__control:checked~div.sk-toggleable__content {max-height: 200px;max-width: 100%;overflow: auto;}#sk-container-id-2 input.sk-toggleable__control:checked~label.sk-toggleable__label-arrow:before {content: \"▾\";}#sk-container-id-2 div.sk-estimator input.sk-toggleable__control:checked~label.sk-toggleable__label {background-color: #d4ebff;}#sk-container-id-2 div.sk-label input.sk-toggleable__control:checked~label.sk-toggleable__label {background-color: #d4ebff;}#sk-container-id-2 input.sk-hidden--visually {border: 0;clip: rect(1px 1px 1px 1px);clip: rect(1px, 1px, 1px, 1px);height: 1px;margin: -1px;overflow: hidden;padding: 0;position: absolute;width: 1px;}#sk-container-id-2 div.sk-estimator {font-family: monospace;background-color: #f0f8ff;border: 1px dotted black;border-radius: 0.25em;box-sizing: border-box;margin-bottom: 0.5em;}#sk-container-id-2 div.sk-estimator:hover {background-color: #d4ebff;}#sk-container-id-2 div.sk-parallel-item::after {content: \"\";width: 100%;border-bottom: 1px solid gray;flex-grow: 1;}#sk-container-id-2 div.sk-label:hover label.sk-toggleable__label {background-color: #d4ebff;}#sk-container-id-2 div.sk-serial::before {content: \"\";position: absolute;border-left: 1px solid gray;box-sizing: border-box;top: 0;bottom: 0;left: 50%;z-index: 0;}#sk-container-id-2 div.sk-serial {display: flex;flex-direction: column;align-items: center;background-color: white;padding-right: 0.2em;padding-left: 0.2em;position: relative;}#sk-container-id-2 div.sk-item {position: relative;z-index: 1;}#sk-container-id-2 div.sk-parallel {display: flex;align-items: stretch;justify-content: center;background-color: white;position: relative;}#sk-container-id-2 div.sk-item::before, #sk-container-id-2 div.sk-parallel-item::before {content: \"\";position: absolute;border-left: 1px solid gray;box-sizing: border-box;top: 0;bottom: 0;left: 50%;z-index: -1;}#sk-container-id-2 div.sk-parallel-item {display: flex;flex-direction: column;z-index: 1;position: relative;background-color: white;}#sk-container-id-2 div.sk-parallel-item:first-child::after {align-self: flex-end;width: 50%;}#sk-container-id-2 div.sk-parallel-item:last-child::after {align-self: flex-start;width: 50%;}#sk-container-id-2 div.sk-parallel-item:only-child::after {width: 0;}#sk-container-id-2 div.sk-dashed-wrapped {border: 1px dashed gray;margin: 0 0.4em 0.5em 0.4em;box-sizing: border-box;padding-bottom: 0.4em;background-color: white;}#sk-container-id-2 div.sk-label label {font-family: monospace;font-weight: bold;display: inline-block;line-height: 1.2em;}#sk-container-id-2 div.sk-label-container {text-align: center;}#sk-container-id-2 div.sk-container {/* jupyter's `normalize.less` sets `[hidden] { display: none; }` but bootstrap.min.css set `[hidden] { display: none !important; }` so we also need the `!important` here to be able to override the default hidden behavior on the sphinx rendered scikit-learn.org. See: https://github.com/scikit-learn/scikit-learn/issues/21755 */display: inline-block !important;position: relative;}#sk-container-id-2 div.sk-text-repr-fallback {display: none;}</style><div id=\"sk-container-id-2\" class=\"sk-top-container\"><div class=\"sk-text-repr-fallback\"><pre>DecisionTreeClassifier(max_depth=3, min_samples_leaf=32, min_samples_split=32)</pre><b>In a Jupyter environment, please rerun this cell to show the HTML representation or trust the notebook. <br />On GitHub, the HTML representation is unable to render, please try loading this page with nbviewer.org.</b></div><div class=\"sk-container\" hidden><div class=\"sk-item\"><div class=\"sk-estimator sk-toggleable\"><input class=\"sk-toggleable__control sk-hidden--visually\" id=\"sk-estimator-id-2\" type=\"checkbox\" checked><label for=\"sk-estimator-id-2\" class=\"sk-toggleable__label sk-toggleable__label-arrow\">DecisionTreeClassifier</label><div class=\"sk-toggleable__content\"><pre>DecisionTreeClassifier(max_depth=3, min_samples_leaf=32, min_samples_split=32)</pre></div></div></div></div></div>"
            ],
            "text/plain": [
              "DecisionTreeClassifier(max_depth=3, min_samples_leaf=32, min_samples_split=32)"
            ]
          },
          "execution_count": 90,
          "metadata": {},
          "output_type": "execute_result"
        }
      ],
      "source": [
        "melhor = busca.best_estimator_\n",
        "melhor"
      ]
    },
    {
      "cell_type": "code",
      "execution_count": 91,
      "metadata": {
        "colab": {
          "base_uri": "https://localhost:8080/",
          "height": 34
        },
        "colab_type": "code",
        "id": "fBUiCF3krkZo",
        "outputId": "4c93a18a-4dd2-4e3d-bd5e-a7be0e881f03"
      },
      "outputs": [
        {
          "name": "stdout",
          "output_type": "stream",
          "text": [
            "Accuracy para os dados foi 78.75%\n"
          ]
        }
      ],
      "source": [
        "from sklearn.metrics import accuracy_score\n",
        "\n",
        "# evitar essa abordagem pois estará sendo otimista\n",
        "\n",
        "predicoes = melhor.predict(x_azar) # type: ignore\n",
        "accuracy = accuracy_score(predicoes, y_azar) * 100\n",
        "print(\"Accuracy para os dados foi %.2f%%\" % accuracy)"
      ]
    },
    {
      "cell_type": "markdown",
      "metadata": {
        "colab_type": "text",
        "id": "mM-vg1Mrtj7V"
      },
      "source": [
        "# Como ter uma estimativa sem esse vício nos dados que eu já vi?\n",
        "\n",
        "No caso de cross validation com busca de hiper parâmetros, fazemos uma nova validação cruzada. Chama-se nested cross validation"
      ]
    },
    {
      "cell_type": "code",
      "execution_count": null,
      "metadata": {
        "colab": {
          "base_uri": "https://localhost:8080/",
          "height": 1980
        },
        "colab_type": "code",
        "id": "cqZznVDKr--h",
        "outputId": "f444dc7b-47ba-493c-deac-a0b618300f3f"
      },
      "outputs": [],
      "source": [
        "from sklearn.model_selection import cross_val_score\n",
        "\n",
        "scores = cross_val_score(busca, x_azar, y_azar, cv = GroupKFold(n_splits=10), groups = dados.modelo)"
      ]
    },
    {
      "cell_type": "markdown",
      "metadata": {
        "colab_type": "text",
        "id": "E_MEMPRYuWYT"
      },
      "source": [
        "# Infelizmente como o Pandas não suporta nested validation com group k fold não conseguimos prever o resultado para novos grupos"
      ]
    },
    {
      "cell_type": "code",
      "execution_count": 93,
      "metadata": {
        "colab": {
          "base_uri": "https://localhost:8080/",
          "height": 815
        },
        "colab_type": "code",
        "id": "9aYIMS1At7ZW",
        "outputId": "796c67c2-85f0-43cd-fb4e-439162257201"
      },
      "outputs": [
        {
          "data": {
            "text/html": [
              "<div>\n",
              "<style scoped>\n",
              "    .dataframe tbody tr th:only-of-type {\n",
              "        vertical-align: middle;\n",
              "    }\n",
              "\n",
              "    .dataframe tbody tr th {\n",
              "        vertical-align: top;\n",
              "    }\n",
              "\n",
              "    .dataframe thead th {\n",
              "        text-align: right;\n",
              "    }\n",
              "</style>\n",
              "<table border=\"1\" class=\"dataframe\">\n",
              "  <thead>\n",
              "    <tr style=\"text-align: right;\">\n",
              "      <th></th>\n",
              "      <th>mean_fit_time</th>\n",
              "      <th>std_fit_time</th>\n",
              "      <th>mean_score_time</th>\n",
              "      <th>std_score_time</th>\n",
              "      <th>param_criterion</th>\n",
              "      <th>param_max_depth</th>\n",
              "      <th>param_min_samples_leaf</th>\n",
              "      <th>param_min_samples_split</th>\n",
              "      <th>params</th>\n",
              "      <th>split0_test_score</th>\n",
              "      <th>split1_test_score</th>\n",
              "      <th>split2_test_score</th>\n",
              "      <th>split3_test_score</th>\n",
              "      <th>split4_test_score</th>\n",
              "      <th>mean_test_score</th>\n",
              "      <th>std_test_score</th>\n",
              "      <th>rank_test_score</th>\n",
              "    </tr>\n",
              "  </thead>\n",
              "  <tbody>\n",
              "    <tr>\n",
              "      <th>0</th>\n",
              "      <td>0.014600</td>\n",
              "      <td>0.002729</td>\n",
              "      <td>0.002999</td>\n",
              "      <td>0.000629</td>\n",
              "      <td>gini</td>\n",
              "      <td>3</td>\n",
              "      <td>32</td>\n",
              "      <td>32</td>\n",
              "      <td>{'criterion': 'gini', 'max_depth': 3, 'min_sam...</td>\n",
              "      <td>0.784</td>\n",
              "      <td>0.776</td>\n",
              "      <td>0.8025</td>\n",
              "      <td>0.793</td>\n",
              "      <td>0.7795</td>\n",
              "      <td>0.787</td>\n",
              "      <td>0.009618</td>\n",
              "      <td>1</td>\n",
              "    </tr>\n",
              "    <tr>\n",
              "      <th>1</th>\n",
              "      <td>0.013200</td>\n",
              "      <td>0.001721</td>\n",
              "      <td>0.003200</td>\n",
              "      <td>0.000747</td>\n",
              "      <td>gini</td>\n",
              "      <td>3</td>\n",
              "      <td>32</td>\n",
              "      <td>64</td>\n",
              "      <td>{'criterion': 'gini', 'max_depth': 3, 'min_sam...</td>\n",
              "      <td>0.784</td>\n",
              "      <td>0.776</td>\n",
              "      <td>0.8025</td>\n",
              "      <td>0.793</td>\n",
              "      <td>0.7795</td>\n",
              "      <td>0.787</td>\n",
              "      <td>0.009618</td>\n",
              "      <td>1</td>\n",
              "    </tr>\n",
              "    <tr>\n",
              "      <th>2</th>\n",
              "      <td>0.014001</td>\n",
              "      <td>0.001787</td>\n",
              "      <td>0.003004</td>\n",
              "      <td>0.001095</td>\n",
              "      <td>gini</td>\n",
              "      <td>3</td>\n",
              "      <td>32</td>\n",
              "      <td>128</td>\n",
              "      <td>{'criterion': 'gini', 'max_depth': 3, 'min_sam...</td>\n",
              "      <td>0.784</td>\n",
              "      <td>0.776</td>\n",
              "      <td>0.8025</td>\n",
              "      <td>0.793</td>\n",
              "      <td>0.7795</td>\n",
              "      <td>0.787</td>\n",
              "      <td>0.009618</td>\n",
              "      <td>1</td>\n",
              "    </tr>\n",
              "    <tr>\n",
              "      <th>3</th>\n",
              "      <td>0.012997</td>\n",
              "      <td>0.001099</td>\n",
              "      <td>0.002803</td>\n",
              "      <td>0.000399</td>\n",
              "      <td>gini</td>\n",
              "      <td>3</td>\n",
              "      <td>64</td>\n",
              "      <td>32</td>\n",
              "      <td>{'criterion': 'gini', 'max_depth': 3, 'min_sam...</td>\n",
              "      <td>0.784</td>\n",
              "      <td>0.776</td>\n",
              "      <td>0.8025</td>\n",
              "      <td>0.793</td>\n",
              "      <td>0.7795</td>\n",
              "      <td>0.787</td>\n",
              "      <td>0.009618</td>\n",
              "      <td>1</td>\n",
              "    </tr>\n",
              "    <tr>\n",
              "      <th>4</th>\n",
              "      <td>0.013398</td>\n",
              "      <td>0.001203</td>\n",
              "      <td>0.002602</td>\n",
              "      <td>0.000490</td>\n",
              "      <td>gini</td>\n",
              "      <td>3</td>\n",
              "      <td>64</td>\n",
              "      <td>64</td>\n",
              "      <td>{'criterion': 'gini', 'max_depth': 3, 'min_sam...</td>\n",
              "      <td>0.784</td>\n",
              "      <td>0.776</td>\n",
              "      <td>0.8025</td>\n",
              "      <td>0.793</td>\n",
              "      <td>0.7795</td>\n",
              "      <td>0.787</td>\n",
              "      <td>0.009618</td>\n",
              "      <td>1</td>\n",
              "    </tr>\n",
              "  </tbody>\n",
              "</table>\n",
              "</div>"
            ],
            "text/plain": [
              "   mean_fit_time  std_fit_time  mean_score_time  std_score_time   \n",
              "0       0.014600      0.002729         0.002999        0.000629  \\\n",
              "1       0.013200      0.001721         0.003200        0.000747   \n",
              "2       0.014001      0.001787         0.003004        0.001095   \n",
              "3       0.012997      0.001099         0.002803        0.000399   \n",
              "4       0.013398      0.001203         0.002602        0.000490   \n",
              "\n",
              "  param_criterion param_max_depth param_min_samples_leaf   \n",
              "0            gini               3                     32  \\\n",
              "1            gini               3                     32   \n",
              "2            gini               3                     32   \n",
              "3            gini               3                     64   \n",
              "4            gini               3                     64   \n",
              "\n",
              "  param_min_samples_split                                             params   \n",
              "0                      32  {'criterion': 'gini', 'max_depth': 3, 'min_sam...  \\\n",
              "1                      64  {'criterion': 'gini', 'max_depth': 3, 'min_sam...   \n",
              "2                     128  {'criterion': 'gini', 'max_depth': 3, 'min_sam...   \n",
              "3                      32  {'criterion': 'gini', 'max_depth': 3, 'min_sam...   \n",
              "4                      64  {'criterion': 'gini', 'max_depth': 3, 'min_sam...   \n",
              "\n",
              "   split0_test_score  split1_test_score  split2_test_score  split3_test_score   \n",
              "0              0.784              0.776             0.8025              0.793  \\\n",
              "1              0.784              0.776             0.8025              0.793   \n",
              "2              0.784              0.776             0.8025              0.793   \n",
              "3              0.784              0.776             0.8025              0.793   \n",
              "4              0.784              0.776             0.8025              0.793   \n",
              "\n",
              "   split4_test_score  mean_test_score  std_test_score  rank_test_score  \n",
              "0             0.7795            0.787        0.009618                1  \n",
              "1             0.7795            0.787        0.009618                1  \n",
              "2             0.7795            0.787        0.009618                1  \n",
              "3             0.7795            0.787        0.009618                1  \n",
              "4             0.7795            0.787        0.009618                1  "
            ]
          },
          "execution_count": 93,
          "metadata": {},
          "output_type": "execute_result"
        }
      ],
      "source": [
        "from sklearn.model_selection import GridSearchCV, KFold\n",
        "\n",
        "SEED=301\n",
        "np.random.seed(SEED)\n",
        "\n",
        "espaco_de_parametros = {\n",
        "    \"max_depth\" : [3, 5],\n",
        "    \"min_samples_split\" : [32, 64, 128],\n",
        "    \"min_samples_leaf\" : [32, 64, 128],\n",
        "    \"criterion\" : [\"gini\", \"entropy\"]\n",
        "}\n",
        "\n",
        "busca = GridSearchCV(DecisionTreeClassifier(), espaco_de_parametros, cv = KFold(n_splits = 5, shuffle=True))\n",
        "busca.fit(x_azar, y_azar)\n",
        "resultados = pd.DataFrame(busca.cv_results_)\n",
        "resultados.head()"
      ]
    },
    {
      "cell_type": "code",
      "execution_count": 94,
      "metadata": {
        "colab": {
          "base_uri": "https://localhost:8080/",
          "height": 34
        },
        "colab_type": "code",
        "id": "IHOi-91kulqx",
        "outputId": "8924bf96-8bc2-413b-ae11-2ce40000f072"
      },
      "outputs": [
        {
          "data": {
            "text/plain": [
              "array([0.7895, 0.7825, 0.7905, 0.7715, 0.7995])"
            ]
          },
          "execution_count": 94,
          "metadata": {},
          "output_type": "execute_result"
        }
      ],
      "source": [
        "from sklearn.model_selection import cross_val_score\n",
        "\n",
        "scores = cross_val_score(busca, x_azar, y_azar, cv = KFold(n_splits=5, shuffle=True))\n",
        "scores"
      ]
    },
    {
      "cell_type": "code",
      "execution_count": 95,
      "metadata": {
        "colab": {},
        "colab_type": "code",
        "id": "Lc5EU1Uou07O"
      },
      "outputs": [],
      "source": [
        "def imprime_score(scores):\n",
        "  media = scores.mean() * 100\n",
        "  desvio = scores.std() * 100\n",
        "  print(\"Accuracy médio %.2f\" % media)\n",
        "  print(\"Intervalo [%.2f, %.2f]\" % (media - 2 * desvio, media + 2 * desvio))"
      ]
    },
    {
      "cell_type": "code",
      "execution_count": 96,
      "metadata": {
        "colab": {
          "base_uri": "https://localhost:8080/",
          "height": 51
        },
        "colab_type": "code",
        "id": "VDRWxxyevJiz",
        "outputId": "42022718-23a6-428b-a265-18107042a0f1"
      },
      "outputs": [
        {
          "name": "stdout",
          "output_type": "stream",
          "text": [
            "Accuracy médio 78.67\n",
            "Intervalo [76.80, 80.54]\n"
          ]
        }
      ],
      "source": [
        "imprime_score(scores)"
      ]
    },
    {
      "cell_type": "code",
      "execution_count": 97,
      "metadata": {
        "colab": {
          "base_uri": "https://localhost:8080/",
          "height": 119
        },
        "colab_type": "code",
        "id": "7fUVmolpvKco",
        "outputId": "4673d25f-b94a-4ba9-c67d-5cc211717a21"
      },
      "outputs": [
        {
          "name": "stdout",
          "output_type": "stream",
          "text": [
            "DecisionTreeClassifier(max_depth=3, min_samples_leaf=32, min_samples_split=32)\n"
          ]
        }
      ],
      "source": [
        "melhor = busca.best_estimator_\n",
        "print(melhor)"
      ]
    },
    {
      "cell_type": "code",
      "execution_count": 98,
      "metadata": {
        "colab": {
          "base_uri": "https://localhost:8080/",
          "height": 618
        },
        "colab_type": "code",
        "id": "eDBL3kBxvPPi",
        "outputId": "0c840ac7-4430-4450-ee9f-90488d10c2c7"
      },
      "outputs": [
        {
          "data": {
            "image/svg+xml": [
              "<?xml version=\"1.0\" encoding=\"UTF-8\" standalone=\"no\"?>\n",
              "<!DOCTYPE svg PUBLIC \"-//W3C//DTD SVG 1.1//EN\"\n",
              " \"http://www.w3.org/Graphics/SVG/1.1/DTD/svg11.dtd\">\n",
              "<!-- Generated by graphviz version 8.0.3 (20230416.2022)\n",
              " -->\n",
              "<!-- Title: Tree Pages: 1 -->\n",
              "<svg width=\"899pt\" height=\"433pt\"\n",
              " viewBox=\"0.00 0.00 899.00 433.00\" xmlns=\"http://www.w3.org/2000/svg\" xmlns:xlink=\"http://www.w3.org/1999/xlink\">\n",
              "<g id=\"graph0\" class=\"graph\" transform=\"scale(1 1) rotate(0) translate(4 429)\">\n",
              "<title>Tree</title>\n",
              "<polygon fill=\"white\" stroke=\"none\" points=\"-4,4 -4,-429 895,-429 895,4 -4,4\"/>\n",
              "<!-- 0 -->\n",
              "<g id=\"node1\" class=\"node\">\n",
              "<title>0</title>\n",
              "<path fill=\"#c8e4f8\" stroke=\"black\" d=\"M368.5,-425C368.5,-425 245.5,-425 245.5,-425 239.5,-425 233.5,-419 233.5,-413 233.5,-413 233.5,-354 233.5,-354 233.5,-348 239.5,-342 245.5,-342 245.5,-342 368.5,-342 368.5,-342 374.5,-342 380.5,-348 380.5,-354 380.5,-354 380.5,-413 380.5,-413 380.5,-419 374.5,-425 368.5,-425\"/>\n",
              "<text text-anchor=\"middle\" x=\"307\" y=\"-409.8\" font-family=\"Helvetica,sans-Serif\" font-size=\"14.00\">preco &lt;= 59982.246</text>\n",
              "<text text-anchor=\"middle\" x=\"307\" y=\"-394.8\" font-family=\"Helvetica,sans-Serif\" font-size=\"14.00\">gini = 0.487</text>\n",
              "<text text-anchor=\"middle\" x=\"307\" y=\"-379.8\" font-family=\"Helvetica,sans-Serif\" font-size=\"14.00\">samples = 10000</text>\n",
              "<text text-anchor=\"middle\" x=\"307\" y=\"-364.8\" font-family=\"Helvetica,sans-Serif\" font-size=\"14.00\">value = [4200, 5800]</text>\n",
              "<text text-anchor=\"middle\" x=\"307\" y=\"-349.8\" font-family=\"Helvetica,sans-Serif\" font-size=\"14.00\">class = sim</text>\n",
              "</g>\n",
              "<!-- 1 -->\n",
              "<g id=\"node2\" class=\"node\">\n",
              "<title>1</title>\n",
              "<path fill=\"#52a9e8\" stroke=\"black\" d=\"M275.5,-306C275.5,-306 152.5,-306 152.5,-306 146.5,-306 140.5,-300 140.5,-294 140.5,-294 140.5,-235 140.5,-235 140.5,-229 146.5,-223 152.5,-223 152.5,-223 275.5,-223 275.5,-223 281.5,-223 287.5,-229 287.5,-235 287.5,-235 287.5,-294 287.5,-294 287.5,-300 281.5,-306 275.5,-306\"/>\n",
              "<text text-anchor=\"middle\" x=\"214\" y=\"-290.8\" font-family=\"Helvetica,sans-Serif\" font-size=\"14.00\">preco &lt;= 40083.385</text>\n",
              "<text text-anchor=\"middle\" x=\"214\" y=\"-275.8\" font-family=\"Helvetica,sans-Serif\" font-size=\"14.00\">gini = 0.198</text>\n",
              "<text text-anchor=\"middle\" x=\"214\" y=\"-260.8\" font-family=\"Helvetica,sans-Serif\" font-size=\"14.00\">samples = 4347</text>\n",
              "<text text-anchor=\"middle\" x=\"214\" y=\"-245.8\" font-family=\"Helvetica,sans-Serif\" font-size=\"14.00\">value = [484, 3863]</text>\n",
              "<text text-anchor=\"middle\" x=\"214\" y=\"-230.8\" font-family=\"Helvetica,sans-Serif\" font-size=\"14.00\">class = sim</text>\n",
              "</g>\n",
              "<!-- 0&#45;&gt;1 -->\n",
              "<g id=\"edge1\" class=\"edge\">\n",
              "<title>0&#45;&gt;1</title>\n",
              "<path fill=\"none\" stroke=\"black\" d=\"M274.47,-341.58C267.57,-332.89 260.21,-323.63 253.08,-314.67\"/>\n",
              "<polygon fill=\"black\" stroke=\"black\" points=\"255.31,-312.85 246.35,-307.2 249.83,-317.21 255.31,-312.85\"/>\n",
              "<text text-anchor=\"middle\" x=\"243.51\" y=\"-327.34\" font-family=\"Helvetica,sans-Serif\" font-size=\"14.00\">True</text>\n",
              "</g>\n",
              "<!-- 6 -->\n",
              "<g id=\"node7\" class=\"node\">\n",
              "<title>6</title>\n",
              "<path fill=\"#f3c3a0\" stroke=\"black\" d=\"M538,-306C538,-306 372,-306 372,-306 366,-306 360,-300 360,-294 360,-294 360,-235 360,-235 360,-229 366,-223 372,-223 372,-223 538,-223 538,-223 544,-223 550,-229 550,-235 550,-235 550,-294 550,-294 550,-300 544,-306 538,-306\"/>\n",
              "<text text-anchor=\"middle\" x=\"455\" y=\"-290.8\" font-family=\"Helvetica,sans-Serif\" font-size=\"14.00\">km_por_ano &lt;= 24124.006</text>\n",
              "<text text-anchor=\"middle\" x=\"455\" y=\"-275.8\" font-family=\"Helvetica,sans-Serif\" font-size=\"14.00\">gini = 0.45</text>\n",
              "<text text-anchor=\"middle\" x=\"455\" y=\"-260.8\" font-family=\"Helvetica,sans-Serif\" font-size=\"14.00\">samples = 5653</text>\n",
              "<text text-anchor=\"middle\" x=\"455\" y=\"-245.8\" font-family=\"Helvetica,sans-Serif\" font-size=\"14.00\">value = [3716, 1937]</text>\n",
              "<text text-anchor=\"middle\" x=\"455\" y=\"-230.8\" font-family=\"Helvetica,sans-Serif\" font-size=\"14.00\">class = não</text>\n",
              "</g>\n",
              "<!-- 0&#45;&gt;6 -->\n",
              "<g id=\"edge6\" class=\"edge\">\n",
              "<title>0&#45;&gt;6</title>\n",
              "<path fill=\"none\" stroke=\"black\" d=\"M358.76,-341.58C370.37,-332.41 382.78,-322.6 394.69,-313.17\"/>\n",
              "<polygon fill=\"black\" stroke=\"black\" points=\"396.59,-315.35 402.27,-306.4 392.25,-309.85 396.59,-315.35\"/>\n",
              "<text text-anchor=\"middle\" x=\"400.36\" y=\"-327.53\" font-family=\"Helvetica,sans-Serif\" font-size=\"14.00\">False</text>\n",
              "</g>\n",
              "<!-- 2 -->\n",
              "<g id=\"node3\" class=\"node\">\n",
              "<title>2</title>\n",
              "<path fill=\"#399de5\" stroke=\"black\" d=\"M110,-179.5C110,-179.5 12,-179.5 12,-179.5 6,-179.5 0,-173.5 0,-167.5 0,-167.5 0,-123.5 0,-123.5 0,-117.5 6,-111.5 12,-111.5 12,-111.5 110,-111.5 110,-111.5 116,-111.5 122,-117.5 122,-123.5 122,-123.5 122,-167.5 122,-167.5 122,-173.5 116,-179.5 110,-179.5\"/>\n",
              "<text text-anchor=\"middle\" x=\"61\" y=\"-164.3\" font-family=\"Helvetica,sans-Serif\" font-size=\"14.00\">gini = 0.0</text>\n",
              "<text text-anchor=\"middle\" x=\"61\" y=\"-149.3\" font-family=\"Helvetica,sans-Serif\" font-size=\"14.00\">samples = 1935</text>\n",
              "<text text-anchor=\"middle\" x=\"61\" y=\"-134.3\" font-family=\"Helvetica,sans-Serif\" font-size=\"14.00\">value = [0, 1935]</text>\n",
              "<text text-anchor=\"middle\" x=\"61\" y=\"-119.3\" font-family=\"Helvetica,sans-Serif\" font-size=\"14.00\">class = sim</text>\n",
              "</g>\n",
              "<!-- 1&#45;&gt;2 -->\n",
              "<g id=\"edge2\" class=\"edge\">\n",
              "<title>1&#45;&gt;2</title>\n",
              "<path fill=\"none\" stroke=\"black\" d=\"M160.49,-222.58C145.07,-210.79 128.29,-197.95 112.97,-186.24\"/>\n",
              "<polygon fill=\"black\" stroke=\"black\" points=\"115.7,-183.16 105.63,-179.86 111.44,-188.72 115.7,-183.16\"/>\n",
              "</g>\n",
              "<!-- 3 -->\n",
              "<g id=\"node4\" class=\"node\">\n",
              "<title>3</title>\n",
              "<path fill=\"#6bb6ec\" stroke=\"black\" d=\"M275.5,-187C275.5,-187 152.5,-187 152.5,-187 146.5,-187 140.5,-181 140.5,-175 140.5,-175 140.5,-116 140.5,-116 140.5,-110 146.5,-104 152.5,-104 152.5,-104 275.5,-104 275.5,-104 281.5,-104 287.5,-110 287.5,-116 287.5,-116 287.5,-175 287.5,-175 287.5,-181 281.5,-187 275.5,-187\"/>\n",
              "<text text-anchor=\"middle\" x=\"214\" y=\"-171.8\" font-family=\"Helvetica,sans-Serif\" font-size=\"14.00\">preco &lt;= 41083.029</text>\n",
              "<text text-anchor=\"middle\" x=\"214\" y=\"-156.8\" font-family=\"Helvetica,sans-Serif\" font-size=\"14.00\">gini = 0.321</text>\n",
              "<text text-anchor=\"middle\" x=\"214\" y=\"-141.8\" font-family=\"Helvetica,sans-Serif\" font-size=\"14.00\">samples = 2412</text>\n",
              "<text text-anchor=\"middle\" x=\"214\" y=\"-126.8\" font-family=\"Helvetica,sans-Serif\" font-size=\"14.00\">value = [484, 1928]</text>\n",
              "<text text-anchor=\"middle\" x=\"214\" y=\"-111.8\" font-family=\"Helvetica,sans-Serif\" font-size=\"14.00\">class = sim</text>\n",
              "</g>\n",
              "<!-- 1&#45;&gt;3 -->\n",
              "<g id=\"edge3\" class=\"edge\">\n",
              "<title>1&#45;&gt;3</title>\n",
              "<path fill=\"none\" stroke=\"black\" d=\"M214,-222.58C214,-214.7 214,-206.34 214,-198.17\"/>\n",
              "<polygon fill=\"black\" stroke=\"black\" points=\"217.5,-198.2 214,-188.2 210.5,-198.2 217.5,-198.2\"/>\n",
              "</g>\n",
              "<!-- 4 -->\n",
              "<g id=\"node5\" class=\"node\">\n",
              "<title>4</title>\n",
              "<path fill=\"#95cbf1\" stroke=\"black\" d=\"M114.5,-68C114.5,-68 25.5,-68 25.5,-68 19.5,-68 13.5,-62 13.5,-56 13.5,-56 13.5,-12 13.5,-12 13.5,-6 19.5,0 25.5,0 25.5,0 114.5,0 114.5,0 120.5,0 126.5,-6 126.5,-12 126.5,-12 126.5,-56 126.5,-56 126.5,-62 120.5,-68 114.5,-68\"/>\n",
              "<text text-anchor=\"middle\" x=\"70\" y=\"-52.8\" font-family=\"Helvetica,sans-Serif\" font-size=\"14.00\">gini = 0.434</text>\n",
              "<text text-anchor=\"middle\" x=\"70\" y=\"-37.8\" font-family=\"Helvetica,sans-Serif\" font-size=\"14.00\">samples = 110</text>\n",
              "<text text-anchor=\"middle\" x=\"70\" y=\"-22.8\" font-family=\"Helvetica,sans-Serif\" font-size=\"14.00\">value = [35, 75]</text>\n",
              "<text text-anchor=\"middle\" x=\"70\" y=\"-7.8\" font-family=\"Helvetica,sans-Serif\" font-size=\"14.00\">class = sim</text>\n",
              "</g>\n",
              "<!-- 3&#45;&gt;4 -->\n",
              "<g id=\"edge4\" class=\"edge\">\n",
              "<title>3&#45;&gt;4</title>\n",
              "<path fill=\"none\" stroke=\"black\" d=\"M160.38,-103.73C147.91,-94.24 134.64,-84.16 122.23,-74.72\"/>\n",
              "<polygon fill=\"black\" stroke=\"black\" points=\"124.87,-71.57 114.79,-68.3 120.63,-77.14 124.87,-71.57\"/>\n",
              "</g>\n",
              "<!-- 5 -->\n",
              "<g id=\"node6\" class=\"node\">\n",
              "<title>5</title>\n",
              "<path fill=\"#69b5eb\" stroke=\"black\" d=\"M271,-68C271,-68 157,-68 157,-68 151,-68 145,-62 145,-56 145,-56 145,-12 145,-12 145,-6 151,0 157,0 157,0 271,0 271,0 277,0 283,-6 283,-12 283,-12 283,-56 283,-56 283,-62 277,-68 271,-68\"/>\n",
              "<text text-anchor=\"middle\" x=\"214\" y=\"-52.8\" font-family=\"Helvetica,sans-Serif\" font-size=\"14.00\">gini = 0.314</text>\n",
              "<text text-anchor=\"middle\" x=\"214\" y=\"-37.8\" font-family=\"Helvetica,sans-Serif\" font-size=\"14.00\">samples = 2302</text>\n",
              "<text text-anchor=\"middle\" x=\"214\" y=\"-22.8\" font-family=\"Helvetica,sans-Serif\" font-size=\"14.00\">value = [449, 1853]</text>\n",
              "<text text-anchor=\"middle\" x=\"214\" y=\"-7.8\" font-family=\"Helvetica,sans-Serif\" font-size=\"14.00\">class = sim</text>\n",
              "</g>\n",
              "<!-- 3&#45;&gt;5 -->\n",
              "<g id=\"edge5\" class=\"edge\">\n",
              "<title>3&#45;&gt;5</title>\n",
              "<path fill=\"none\" stroke=\"black\" d=\"M214,-103.73C214,-95.7 214,-87.24 214,-79.11\"/>\n",
              "<polygon fill=\"black\" stroke=\"black\" points=\"217.5,-79.3 214,-69.3 210.5,-79.3 217.5,-79.3\"/>\n",
              "</g>\n",
              "<!-- 7 -->\n",
              "<g id=\"node8\" class=\"node\">\n",
              "<title>7</title>\n",
              "<path fill=\"#fcefe5\" stroke=\"black\" d=\"M516,-187C516,-187 394,-187 394,-187 388,-187 382,-181 382,-175 382,-175 382,-116 382,-116 382,-110 388,-104 394,-104 394,-104 516,-104 516,-104 522,-104 528,-110 528,-116 528,-116 528,-175 528,-175 528,-181 522,-187 516,-187\"/>\n",
              "<text text-anchor=\"middle\" x=\"455\" y=\"-171.8\" font-family=\"Helvetica,sans-Serif\" font-size=\"14.00\">preco &lt;= 99974.41</text>\n",
              "<text text-anchor=\"middle\" x=\"455\" y=\"-156.8\" font-family=\"Helvetica,sans-Serif\" font-size=\"14.00\">gini = 0.498</text>\n",
              "<text text-anchor=\"middle\" x=\"455\" y=\"-141.8\" font-family=\"Helvetica,sans-Serif\" font-size=\"14.00\">samples = 3513</text>\n",
              "<text text-anchor=\"middle\" x=\"455\" y=\"-126.8\" font-family=\"Helvetica,sans-Serif\" font-size=\"14.00\">value = [1879, 1634]</text>\n",
              "<text text-anchor=\"middle\" x=\"455\" y=\"-111.8\" font-family=\"Helvetica,sans-Serif\" font-size=\"14.00\">class = não</text>\n",
              "</g>\n",
              "<!-- 6&#45;&gt;7 -->\n",
              "<g id=\"edge7\" class=\"edge\">\n",
              "<title>6&#45;&gt;7</title>\n",
              "<path fill=\"none\" stroke=\"black\" d=\"M455,-222.58C455,-214.7 455,-206.34 455,-198.17\"/>\n",
              "<polygon fill=\"black\" stroke=\"black\" points=\"458.5,-198.2 455,-188.2 451.5,-198.2 458.5,-198.2\"/>\n",
              "</g>\n",
              "<!-- 10 -->\n",
              "<g id=\"node11\" class=\"node\">\n",
              "<title>10</title>\n",
              "<path fill=\"#e9965a\" stroke=\"black\" d=\"M743.5,-187C743.5,-187 612.5,-187 612.5,-187 606.5,-187 600.5,-181 600.5,-175 600.5,-175 600.5,-116 600.5,-116 600.5,-110 606.5,-104 612.5,-104 612.5,-104 743.5,-104 743.5,-104 749.5,-104 755.5,-110 755.5,-116 755.5,-116 755.5,-175 755.5,-175 755.5,-181 749.5,-187 743.5,-187\"/>\n",
              "<text text-anchor=\"middle\" x=\"678\" y=\"-171.8\" font-family=\"Helvetica,sans-Serif\" font-size=\"14.00\">preco &lt;= 100076.957</text>\n",
              "<text text-anchor=\"middle\" x=\"678\" y=\"-156.8\" font-family=\"Helvetica,sans-Serif\" font-size=\"14.00\">gini = 0.243</text>\n",
              "<text text-anchor=\"middle\" x=\"678\" y=\"-141.8\" font-family=\"Helvetica,sans-Serif\" font-size=\"14.00\">samples = 2140</text>\n",
              "<text text-anchor=\"middle\" x=\"678\" y=\"-126.8\" font-family=\"Helvetica,sans-Serif\" font-size=\"14.00\">value = [1837, 303]</text>\n",
              "<text text-anchor=\"middle\" x=\"678\" y=\"-111.8\" font-family=\"Helvetica,sans-Serif\" font-size=\"14.00\">class = não</text>\n",
              "</g>\n",
              "<!-- 6&#45;&gt;10 -->\n",
              "<g id=\"edge10\" class=\"edge\">\n",
              "<title>6&#45;&gt;10</title>\n",
              "<path fill=\"none\" stroke=\"black\" d=\"M532.99,-222.58C551.58,-212.83 571.54,-202.36 590.52,-192.4\"/>\n",
              "<polygon fill=\"black\" stroke=\"black\" points=\"591.82,-195.14 599.05,-187.4 588.57,-188.94 591.82,-195.14\"/>\n",
              "</g>\n",
              "<!-- 8 -->\n",
              "<g id=\"node9\" class=\"node\">\n",
              "<title>8</title>\n",
              "<path fill=\"#f9e0ce\" stroke=\"black\" d=\"M435,-68C435,-68 313,-68 313,-68 307,-68 301,-62 301,-56 301,-56 301,-12 301,-12 301,-6 307,0 313,0 313,0 435,0 435,0 441,0 447,-6 447,-12 447,-12 447,-56 447,-56 447,-62 441,-68 435,-68\"/>\n",
              "<text text-anchor=\"middle\" x=\"374\" y=\"-52.8\" font-family=\"Helvetica,sans-Serif\" font-size=\"14.00\">gini = 0.49</text>\n",
              "<text text-anchor=\"middle\" x=\"374\" y=\"-37.8\" font-family=\"Helvetica,sans-Serif\" font-size=\"14.00\">samples = 2944</text>\n",
              "<text text-anchor=\"middle\" x=\"374\" y=\"-22.8\" font-family=\"Helvetica,sans-Serif\" font-size=\"14.00\">value = [1682, 1262]</text>\n",
              "<text text-anchor=\"middle\" x=\"374\" y=\"-7.8\" font-family=\"Helvetica,sans-Serif\" font-size=\"14.00\">class = não</text>\n",
              "</g>\n",
              "<!-- 7&#45;&gt;8 -->\n",
              "<g id=\"edge8\" class=\"edge\">\n",
              "<title>7&#45;&gt;8</title>\n",
              "<path fill=\"none\" stroke=\"black\" d=\"M424.84,-103.73C418.36,-94.97 411.51,-85.7 405,-76.91\"/>\n",
              "<polygon fill=\"black\" stroke=\"black\" points=\"407.39,-75.26 398.63,-69.3 401.77,-79.42 407.39,-75.26\"/>\n",
              "</g>\n",
              "<!-- 9 -->\n",
              "<g id=\"node10\" class=\"node\">\n",
              "<title>9</title>\n",
              "<path fill=\"#a2d1f3\" stroke=\"black\" d=\"M583,-68C583,-68 477,-68 477,-68 471,-68 465,-62 465,-56 465,-56 465,-12 465,-12 465,-6 471,0 477,0 477,0 583,0 583,0 589,0 595,-6 595,-12 595,-12 595,-56 595,-56 595,-62 589,-68 583,-68\"/>\n",
              "<text text-anchor=\"middle\" x=\"530\" y=\"-52.8\" font-family=\"Helvetica,sans-Serif\" font-size=\"14.00\">gini = 0.453</text>\n",
              "<text text-anchor=\"middle\" x=\"530\" y=\"-37.8\" font-family=\"Helvetica,sans-Serif\" font-size=\"14.00\">samples = 569</text>\n",
              "<text text-anchor=\"middle\" x=\"530\" y=\"-22.8\" font-family=\"Helvetica,sans-Serif\" font-size=\"14.00\">value = [197, 372]</text>\n",
              "<text text-anchor=\"middle\" x=\"530\" y=\"-7.8\" font-family=\"Helvetica,sans-Serif\" font-size=\"14.00\">class = sim</text>\n",
              "</g>\n",
              "<!-- 7&#45;&gt;9 -->\n",
              "<g id=\"edge9\" class=\"edge\">\n",
              "<title>7&#45;&gt;9</title>\n",
              "<path fill=\"none\" stroke=\"black\" d=\"M482.93,-103.73C488.86,-95.06 495.14,-85.9 501.11,-77.18\"/>\n",
              "<polygon fill=\"black\" stroke=\"black\" points=\"504.43,-79.53 507.19,-69.3 498.65,-75.57 504.43,-79.53\"/>\n",
              "</g>\n",
              "<!-- 11 -->\n",
              "<g id=\"node12\" class=\"node\">\n",
              "<title>11</title>\n",
              "<path fill=\"#e68742\" stroke=\"black\" d=\"M731,-68C731,-68 625,-68 625,-68 619,-68 613,-62 613,-56 613,-56 613,-12 613,-12 613,-6 619,0 625,0 625,0 731,0 731,0 737,0 743,-6 743,-12 743,-12 743,-56 743,-56 743,-62 737,-68 731,-68\"/>\n",
              "<text text-anchor=\"middle\" x=\"678\" y=\"-52.8\" font-family=\"Helvetica,sans-Serif\" font-size=\"14.00\">gini = 0.082</text>\n",
              "<text text-anchor=\"middle\" x=\"678\" y=\"-37.8\" font-family=\"Helvetica,sans-Serif\" font-size=\"14.00\">samples = 1809</text>\n",
              "<text text-anchor=\"middle\" x=\"678\" y=\"-22.8\" font-family=\"Helvetica,sans-Serif\" font-size=\"14.00\">value = [1732, 77]</text>\n",
              "<text text-anchor=\"middle\" x=\"678\" y=\"-7.8\" font-family=\"Helvetica,sans-Serif\" font-size=\"14.00\">class = não</text>\n",
              "</g>\n",
              "<!-- 10&#45;&gt;11 -->\n",
              "<g id=\"edge11\" class=\"edge\">\n",
              "<title>10&#45;&gt;11</title>\n",
              "<path fill=\"none\" stroke=\"black\" d=\"M678,-103.73C678,-95.7 678,-87.24 678,-79.11\"/>\n",
              "<polygon fill=\"black\" stroke=\"black\" points=\"681.5,-79.3 678,-69.3 674.5,-79.3 681.5,-79.3\"/>\n",
              "</g>\n",
              "<!-- 12 -->\n",
              "<g id=\"node13\" class=\"node\">\n",
              "<title>12</title>\n",
              "<path fill=\"#95cbf1\" stroke=\"black\" d=\"M879,-68C879,-68 773,-68 773,-68 767,-68 761,-62 761,-56 761,-56 761,-12 761,-12 761,-6 767,0 773,0 773,0 879,0 879,0 885,0 891,-6 891,-12 891,-12 891,-56 891,-56 891,-62 885,-68 879,-68\"/>\n",
              "<text text-anchor=\"middle\" x=\"826\" y=\"-52.8\" font-family=\"Helvetica,sans-Serif\" font-size=\"14.00\">gini = 0.433</text>\n",
              "<text text-anchor=\"middle\" x=\"826\" y=\"-37.8\" font-family=\"Helvetica,sans-Serif\" font-size=\"14.00\">samples = 331</text>\n",
              "<text text-anchor=\"middle\" x=\"826\" y=\"-22.8\" font-family=\"Helvetica,sans-Serif\" font-size=\"14.00\">value = [105, 226]</text>\n",
              "<text text-anchor=\"middle\" x=\"826\" y=\"-7.8\" font-family=\"Helvetica,sans-Serif\" font-size=\"14.00\">class = sim</text>\n",
              "</g>\n",
              "<!-- 10&#45;&gt;12 -->\n",
              "<g id=\"edge12\" class=\"edge\">\n",
              "<title>10&#45;&gt;12</title>\n",
              "<path fill=\"none\" stroke=\"black\" d=\"M733.11,-103.73C745.93,-94.24 759.56,-84.16 772.32,-74.72\"/>\n",
              "<polygon fill=\"black\" stroke=\"black\" points=\"774.04,-77.06 779.99,-68.3 769.87,-71.43 774.04,-77.06\"/>\n",
              "</g>\n",
              "</g>\n",
              "</svg>\n"
            ],
            "text/plain": [
              "<graphviz.sources.Source at 0x2519b31fb50>"
            ]
          },
          "execution_count": 98,
          "metadata": {},
          "output_type": "execute_result"
        }
      ],
      "source": [
        "from sklearn.tree import export_graphviz\n",
        "import graphviz\n",
        "\n",
        "features = x_azar.columns\n",
        "dot_data = export_graphviz(melhor, out_file=None, filled=True, rounded=True, class_names=[\"não\",\"sim\"], feature_names = features) # type: ignore\n",
        "graph = graphviz.Source(dot_data)\n",
        "graph"
      ]
    }
  ],
  "metadata": {
    "colab": {
      "collapsed_sections": [],
      "name": "Introdução_a_Machine_Learning_Otimização.ipynb",
      "provenance": [],
      "version": "0.3.2"
    },
    "kernelspec": {
      "display_name": "Python 3",
      "name": "python3"
    },
    "language_info": {
      "codemirror_mode": {
        "name": "ipython",
        "version": 3
      },
      "file_extension": ".py",
      "mimetype": "text/x-python",
      "name": "python",
      "nbconvert_exporter": "python",
      "pygments_lexer": "ipython3",
      "version": "3.11.3"
    }
  },
  "nbformat": 4,
  "nbformat_minor": 0
}
